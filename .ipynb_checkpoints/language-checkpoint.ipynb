{
 "cells": [
  {
   "cell_type": "markdown",
   "metadata": {},
   "source": [
    "# Checking the relation between team size and primary language of projects"
   ]
  },
  {
   "cell_type": "markdown",
   "metadata": {},
   "source": [
    "First, we need to load the refined version of data."
   ]
  },
  {
   "cell_type": "code",
   "execution_count": 135,
   "metadata": {},
   "outputs": [],
   "source": [
    "import pandas as pd\n",
    "import numpy as np\n",
    "import matplotlib.pyplot as plt\n",
    "from scipy import stats\n",
    "import os"
   ]
  },
  {
   "cell_type": "code",
   "execution_count": null,
   "metadata": {},
   "outputs": [],
   "source": [
    "# load the dataset\n",
    "df = pd.read_csv('./refined.csv')"
   ]
  },
  {
   "cell_type": "markdown",
   "metadata": {},
   "source": [
    "Then, we use groupby on project name and language columns while getting the average of team sie.\n",
    "The reason for average of team size is because sometimes the team size of projects changes by one or two people. \n",
    "As team size cannot be float, we get the floor of it.\n",
    "\n",
    "Afterward, we calculate the crosstable of team size and language to see langauge distribution of each language per each team size."
   ]
  },
  {
   "cell_type": "code",
   "execution_count": 136,
   "metadata": {},
   "outputs": [
    {
     "name": "stdout",
     "output_type": "stream",
     "text": [
      "gh_lang       java  javascript  ruby\n",
      "gh_team_size                        \n",
      "0.0              2           0     7\n",
      "1.0             16           1    71\n",
      "2.0             44           0   132\n",
      "3.0             33           0   121\n",
      "4.0             30           1    86\n",
      "5.0             22           0    71\n",
      "6.0             19           1    55\n",
      "7.0             15           0    41\n",
      "8.0             12           0    33\n",
      "9.0             11           0    27\n",
      "10.0             5           0    25\n",
      "11.0            11           1    14\n",
      "12.0             4           0    11\n",
      "13.0             3           0    10\n",
      "14.0             1           0     4\n",
      "15.0             3           0     6\n",
      "16.0             5           0    10\n",
      "17.0             3           0     3\n",
      "18.0             2           0     4\n",
      "19.0             0           0     1\n",
      "20.0             0           0     8\n",
      "21.0             0           0     2\n",
      "22.0             0           0     3\n",
      "23.0             3           0     1\n",
      "24.0             1           0     2\n",
      "25.0             1           0     4\n",
      "26.0             2           0     2\n",
      "28.0             0           0     1\n",
      "29.0             0           0     1\n",
      "30.0             1           0     1\n",
      "33.0             1           0     2\n",
      "34.0             0           0     1\n",
      "35.0             0           0     1\n",
      "36.0             1           0     5\n",
      "37.0             0           0     1\n",
      "39.0             1           0     1\n",
      "40.0             0           0     1\n",
      "41.0             0           0     1\n",
      "43.0             0           0     1\n",
      "44.0             1           0     0\n",
      "46.0             0           0     3\n",
      "50.0             1           0     0\n",
      "51.0             0           0     1\n",
      "55.0             0           0     1\n"
     ]
    }
   ],
   "source": [
    "temp = df.groupby([\"gh_project_name\", \"gh_lang\"], as_index=False).agg({'gh_team_size': 'mean'})\n",
    "temp[\"gh_team_size\"] = np.floor(temp[\"gh_team_size\"])\n",
    "\n",
    "crosstab = pd.crosstab(temp['gh_team_size'], temp['gh_lang'])\n",
    "print(crosstab)"
   ]
  },
  {
   "cell_type": "markdown",
   "metadata": {},
   "source": [
    "Now, we can check the number of projects with each of the languages"
   ]
  },
  {
   "cell_type": "code",
   "execution_count": 137,
   "metadata": {},
   "outputs": [
    {
     "data": {
      "text/plain": [
       "4"
      ]
     },
     "execution_count": 137,
     "metadata": {},
     "output_type": "execute_result"
    }
   ],
   "source": [
    "crosstab['javascript'].sum()"
   ]
  },
  {
   "cell_type": "code",
   "execution_count": 138,
   "metadata": {},
   "outputs": [
    {
     "data": {
      "text/plain": [
       "776"
      ]
     },
     "execution_count": 138,
     "metadata": {},
     "output_type": "execute_result"
    }
   ],
   "source": [
    "crosstab['ruby'].sum()"
   ]
  },
  {
   "cell_type": "code",
   "execution_count": 139,
   "metadata": {},
   "outputs": [
    {
     "data": {
      "text/plain": [
       "254"
      ]
     },
     "execution_count": 139,
     "metadata": {},
     "output_type": "execute_result"
    }
   ],
   "source": [
    "crosstab['java'].sum()"
   ]
  },
  {
   "cell_type": "markdown",
   "metadata": {},
   "source": [
    "By using chi-square independence test we can test the association between language and team size where we can see from p-value that there is no relation between these two factors."
   ]
  },
  {
   "cell_type": "code",
   "execution_count": 140,
   "metadata": {},
   "outputs": [
    {
     "data": {
      "text/plain": [
       "(51.19323347237835,\n",
       " 0.9989595521978771,\n",
       " 86,\n",
       " array([[2.21083172e+00, 3.48162476e-02, 6.75435203e+00],\n",
       "        [2.16170213e+01, 3.40425532e-01, 6.60425532e+01],\n",
       "        [4.32340426e+01, 6.80851064e-01, 1.32085106e+02],\n",
       "        [3.78297872e+01, 5.95744681e-01, 1.15574468e+02],\n",
       "        [2.87408124e+01, 4.52611219e-01, 8.78065764e+01],\n",
       "        [2.28452611e+01, 3.59767892e-01, 6.97949710e+01],\n",
       "        [1.84235977e+01, 2.90135397e-01, 5.62862669e+01],\n",
       "        [1.37562863e+01, 2.16634429e-01, 4.20270793e+01],\n",
       "        [1.10541586e+01, 1.74081238e-01, 3.37717602e+01],\n",
       "        [9.33462282e+00, 1.47001934e-01, 2.85183752e+01],\n",
       "        [7.36943907e+00, 1.16054159e-01, 2.25145068e+01],\n",
       "        [6.38684720e+00, 1.00580271e-01, 1.95125725e+01],\n",
       "        [3.68471954e+00, 5.80270793e-02, 1.12572534e+01],\n",
       "        [3.19342360e+00, 5.02901354e-02, 9.75628627e+00],\n",
       "        [1.22823985e+00, 1.93423598e-02, 3.75241779e+00],\n",
       "        [2.21083172e+00, 3.48162476e-02, 6.75435203e+00],\n",
       "        [3.68471954e+00, 5.80270793e-02, 1.12572534e+01],\n",
       "        [1.47388781e+00, 2.32108317e-02, 4.50290135e+00],\n",
       "        [1.47388781e+00, 2.32108317e-02, 4.50290135e+00],\n",
       "        [2.45647969e-01, 3.86847195e-03, 7.50483559e-01],\n",
       "        [1.96518375e+00, 3.09477756e-02, 6.00386847e+00],\n",
       "        [4.91295938e-01, 7.73694391e-03, 1.50096712e+00],\n",
       "        [7.36943907e-01, 1.16054159e-02, 2.25145068e+00],\n",
       "        [9.82591876e-01, 1.54738878e-02, 3.00193424e+00],\n",
       "        [7.36943907e-01, 1.16054159e-02, 2.25145068e+00],\n",
       "        [1.22823985e+00, 1.93423598e-02, 3.75241779e+00],\n",
       "        [9.82591876e-01, 1.54738878e-02, 3.00193424e+00],\n",
       "        [2.45647969e-01, 3.86847195e-03, 7.50483559e-01],\n",
       "        [2.45647969e-01, 3.86847195e-03, 7.50483559e-01],\n",
       "        [4.91295938e-01, 7.73694391e-03, 1.50096712e+00],\n",
       "        [7.36943907e-01, 1.16054159e-02, 2.25145068e+00],\n",
       "        [2.45647969e-01, 3.86847195e-03, 7.50483559e-01],\n",
       "        [2.45647969e-01, 3.86847195e-03, 7.50483559e-01],\n",
       "        [1.47388781e+00, 2.32108317e-02, 4.50290135e+00],\n",
       "        [2.45647969e-01, 3.86847195e-03, 7.50483559e-01],\n",
       "        [4.91295938e-01, 7.73694391e-03, 1.50096712e+00],\n",
       "        [2.45647969e-01, 3.86847195e-03, 7.50483559e-01],\n",
       "        [2.45647969e-01, 3.86847195e-03, 7.50483559e-01],\n",
       "        [2.45647969e-01, 3.86847195e-03, 7.50483559e-01],\n",
       "        [2.45647969e-01, 3.86847195e-03, 7.50483559e-01],\n",
       "        [7.36943907e-01, 1.16054159e-02, 2.25145068e+00],\n",
       "        [2.45647969e-01, 3.86847195e-03, 7.50483559e-01],\n",
       "        [2.45647969e-01, 3.86847195e-03, 7.50483559e-01],\n",
       "        [2.45647969e-01, 3.86847195e-03, 7.50483559e-01]]))"
      ]
     },
     "execution_count": 140,
     "metadata": {},
     "output_type": "execute_result"
    }
   ],
   "source": [
    "stats.chi2_contingency(crosstab)"
   ]
  },
  {
   "cell_type": "markdown",
   "metadata": {},
   "source": [
    "The following plots display the distribution of projects with each of the languages with respect to the team size"
   ]
  },
  {
   "cell_type": "code",
   "execution_count": null,
   "metadata": {},
   "outputs": [],
   "source": [
    "if not os.path.exists('figs'):\n",
    "    os.makedirs('figs')"
   ]
  },
  {
   "cell_type": "code",
   "execution_count": 141,
   "metadata": {},
   "outputs": [
    {
     "data": {
      "image/png": "[encoded data removed]",
      "text/plain": [
       "<Figure size 432x288 with 1 Axes>"
      ]
     },
     "metadata": {
      "needs_background": "light"
     },
     "output_type": "display_data"
    }
   ],
   "source": [
    "plt.plot(crosstab['ruby'])\n",
    "plt.xlabel('team size')\n",
    "plt.ylabel('Number of projects')\n",
    "plt.savefig('./figs/ruby.eps', format='eps')"
   ]
  },
  {
   "cell_type": "code",
   "execution_count": 142,
   "metadata": {
    "scrolled": true
   },
   "outputs": [
    {
     "data": {
      "image/png": "[encoded data removed]",
      "text/plain": [
       "<Figure size 432x288 with 1 Axes>"
      ]
     },
     "metadata": {
      "needs_background": "light"
     },
     "output_type": "display_data"
    }
   ],
   "source": [
    "plt.plot(crosstab['java'])\n",
    "plt.xlabel('team size')\n",
    "plt.ylabel('Number of projects')\n",
    "plt.savefig('./figs/java.eps', format='eps')"
   ]
  },
  {
   "cell_type": "code",
   "execution_count": 143,
   "metadata": {},
   "outputs": [
    {
     "data": {
      "image/png": "[encoded data removed]",
      "text/plain": [
       "<Figure size 432x288 with 1 Axes>"
      ]
     },
     "metadata": {
      "needs_background": "light"
     },
     "output_type": "display_data"
    }
   ],
   "source": [
    "plt.plot(crosstab['javascript'])\n",
    "plt.xlabel('team size')\n",
    "plt.ylabel('Number of projects')\n",
    "plt.savefig('./figs/javascript.eps', format='eps')"
   ]
  }
 ],
 "metadata": {
  "kernelspec": {
   "display_name": "Python 3",
   "language": "python",
   "name": "python3"
  },
  "language_info": {
   "codemirror_mode": {
    "name": "ipython",
    "version": 3
   },
   "file_extension": ".py",
   "mimetype": "text/x-python",
   "name": "python",
   "nbconvert_exporter": "python",
   "pygments_lexer": "ipython3",
   "version": "3.7.1"
  }
 },
 "nbformat": 4,
 "nbformat_minor": 2
}
