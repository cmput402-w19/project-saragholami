{
 "cells": [
  {
   "cell_type": "code",
   "execution_count": 436,
   "metadata": {},
   "outputs": [],
   "source": [
    "import pandas as pd\n",
    "import numpy as np\n",
    "from scipy import stats\n",
    "import matplotlib.pyplot as plt"
   ]
  },
  {
   "cell_type": "code",
   "execution_count": 416,
   "metadata": {},
   "outputs": [],
   "source": [
    "df = pd.read_csv('./travistorrent_8_2_2017.csv')"
   ]
  },
  {
   "cell_type": "code",
   "execution_count": 417,
   "metadata": {},
   "outputs": [],
   "source": [
    "# selecting the required columns from dataset\n",
    "df = df[['gh_pushed_at', 'gh_first_commit_created_at', 'tr_status', 'git_diff_src_churn', 'git_diff_test_churn', 'gh_sloc', 'gh_lang', 'gh_team_size', 'tr_build_id', 'tr_log_num_tests_run', 'tr_log_num_tests_ok', 'tr_log_num_tests_failed', 'gh_test_lines_per_kloc', 'gh_project_name', 'gh_test_cases_per_kloc']]"
   ]
  },
  {
   "cell_type": "code",
   "execution_count": null,
   "metadata": {},
   "outputs": [],
   "source": [
    "if not os.path.exists('figs'):\n",
    "    os.makedirs('figs')"
   ]
  },
  {
   "cell_type": "code",
   "execution_count": 434,
   "metadata": {},
   "outputs": [
    {
     "data": {
      "image/png": "[encoded data removed]",
      "text/plain": [
       "<Figure size 432x288 with 1 Axes>"
      ]
     },
     "metadata": {
      "needs_background": "light"
     },
     "output_type": "display_data"
    }
   ],
   "source": [
    "# Draw projects vs team size plot\n",
    "projects = df.groupby(['gh_team_size']).gh_project_name.nunique()\n",
    "plt.plot(projects)\n",
    "plt.xlabel('Team size')\n",
    "plt.ylabel('Number of projects')\n",
    "plt.savefig('./figs/projects.eps', format='eps')"
   ]
  },
  {
   "cell_type": "code",
   "execution_count": null,
   "metadata": {},
   "outputs": [],
   "source": [
    "df.shape"
   ]
  },
  {
   "cell_type": "markdown",
   "metadata": {},
   "source": [
    "### Removing teams with size greater than 60, missing values. Creating needed features."
   ]
  },
  {
   "cell_type": "code",
   "execution_count": 418,
   "metadata": {},
   "outputs": [],
   "source": [
    "# removing projects with team size higher than 60 as there are only one sample project per team size\n",
    "df = df.loc[df['gh_team_size'] < 60]\n",
    "\n",
    "# Convert gh_pushed_at and gh_first_commit_created_at to delta time\n",
    "df['gh_pushed_at'] = pd.to_datetime(df['gh_pushed_at'])\n",
    "df['gh_first_commit_created_at'] = pd.to_datetime(df['gh_first_commit_created_at'])\n",
    "\n",
    "# Get date diff from them\n",
    "df['date_diff'] = df['gh_pushed_at'].sub(df['gh_first_commit_created_at'], axis=0)\n",
    "df[\"date_diff\"] = df[\"date_diff\"] / np.timedelta64(1, 'm')\n",
    "\n",
    "# Dropping rows where travis status is canceled or started and mapping the rest to 0 and 1\n",
    "df = df[df.tr_status != 'canceled']\n",
    "df = df[df.tr_status != 'started']\n",
    "df['tr_status'] = df['tr_status'].map({'passed': 1, 'failed': 0, 'errored': 0})\n",
    "\n",
    "# Source and test code ratio and their ratio over time\n",
    "df[\"src_diff_ratio\"] = df[\"git_diff_src_churn\"] / df[\"gh_sloc\"]\n",
    "df[\"src_date\"] = df[\"src_diff_ratio\"] / df[\"date_diff\"]\n",
    "\n",
    "total_tests = (df[\"gh_test_lines_per_kloc\"] * (df[\"gh_sloc\"] / 1000)) * (df[\"gh_test_cases_per_kloc\"] * (df[\"gh_sloc\"] / 1000))\n",
    "df[\"test_diff_ratio\"] = df[\"git_diff_test_churn\"] / total_tests\n",
    "df[\"test_date\"] = df[\"test_diff_ratio\"] / df[\"date_diff\"]\n",
    "\n",
    "df.replace('', np.nan, inplace=True) # remove empty cells\n",
    "df.replace([np.inf, -np.inf], np.nan, inplace=True) # remove infinity values\n",
    "\n",
    "# removing rows with null value\n",
    "df = df[pd.notnull(df['tr_log_num_tests_run'])]\n",
    "df = df[pd.notnull(df['tr_log_num_tests_ok'])]\n",
    "df = df[pd.notnull(df['tr_log_num_tests_failed'])]\n",
    "\n",
    "# getting test failure and success ratio\n",
    "df[\"test_failed_ratio\"] = df[\"tr_log_num_tests_failed\"] / df[\"tr_log_num_tests_run\"]\n",
    "df[\"test_ok_ratio\"] = df[\"tr_log_num_tests_ok\"] / df[\"tr_log_num_tests_run\"]\n",
    "\n",
    "# sorting data by team size\n",
    "df = df.sort_values('gh_team_size')\n",
    "\n",
    "# save the refined dataset\n",
    "df.to_csv('./refined.csv')"
   ]
  },
  {
   "cell_type": "code",
   "execution_count": 424,
   "metadata": {},
   "outputs": [
    {
     "data": {
      "text/plain": [
       "(1550252, 22)"
      ]
     },
     "execution_count": 424,
     "metadata": {},
     "output_type": "execute_result"
    }
   ],
   "source": [
    "df.shape"
   ]
  }
 ],
 "metadata": {
  "kernelspec": {
   "display_name": "Python 3",
   "language": "python",
   "name": "python3"
  },
  "language_info": {
   "codemirror_mode": {
    "name": "ipython",
    "version": 3
   },
   "file_extension": ".py",
   "mimetype": "text/x-python",
   "name": "python",
   "nbconvert_exporter": "python",
   "pygments_lexer": "ipython3",
   "version": "3.7.1"
  }
 },
 "nbformat": 4,
 "nbformat_minor": 2
}
