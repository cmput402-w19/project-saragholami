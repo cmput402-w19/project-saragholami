{
 "cells": [
  {
   "cell_type": "code",
   "execution_count": 1,
   "metadata": {},
   "outputs": [],
   "source": [
    "import pandas as pd\n",
    "import numpy as np"
   ]
  },
  {
   "cell_type": "code",
   "execution_count": 2,
   "metadata": {},
   "outputs": [
    {
     "name": "stderr",
     "output_type": "stream",
     "text": [
      "D:\\ProgramData\\Anaconda3\\lib\\site-packages\\IPython\\core\\interactiveshell.py:3020: DtypeWarning: Columns (2) have mixed types. Specify dtype option on import or set low_memory=False.\n",
      "  interactivity=interactivity, compiler=compiler, result=result)\n"
     ]
    }
   ],
   "source": [
    "df = pd.read_csv('D://CMPUT501/project/project-saragholami/sample/travis_torrent_refined.csv')"
   ]
  },
  {
   "cell_type": "code",
   "execution_count": 11,
   "metadata": {},
   "outputs": [],
   "source": [
    "df = df.sort_values('gh_team_size')"
   ]
  },
  {
   "cell_type": "code",
   "execution_count": 13,
   "metadata": {},
   "outputs": [
    {
     "data": {
      "text/plain": [
       "(3115284, 52)"
      ]
     },
     "execution_count": 13,
     "metadata": {},
     "output_type": "execute_result"
    }
   ],
   "source": [
    "df.shape"
   ]
  },
  {
   "cell_type": "code",
   "execution_count": 4,
   "metadata": {},
   "outputs": [],
   "source": [
    "team_size = df.gh_team_size.unique()"
   ]
  },
  {
   "cell_type": "code",
   "execution_count": 16,
   "metadata": {},
   "outputs": [],
   "source": [
    "sample_set = 10"
   ]
  },
  {
   "cell_type": "code",
   "execution_count": 17,
   "metadata": {},
   "outputs": [
    {
     "data": {
      "text/plain": [
       "(10, 60)"
      ]
     },
     "execution_count": 17,
     "metadata": {},
     "output_type": "execute_result"
    }
   ],
   "source": [
    "src_sloc = np.zeros((sample_set, len(team_size)))\n",
    "src_sloc.shape"
   ]
  },
  {
   "cell_type": "code",
   "execution_count": null,
   "metadata": {},
   "outputs": [
    {
     "name": "stdout",
     "output_type": "stream",
     "text": [
      "0\n",
      "1\n",
      "2\n",
      "3\n"
     ]
    }
   ],
   "source": [
    "for i in range(sample_set):\n",
    "    print(i)\n",
    "    sample = df.sample(frac=0.9, replace=True)\n",
    "    sample = sample.sort_values('gh_team_size')\n",
    "    for index, threshold in enumerate(team_size):\n",
    "        if index == 0 or index == len(team_size) - 1:\n",
    "            continue\n",
    "\n",
    "        src = sample.groupby('gh_team_size', as_index=False)['git_diff_src_churn'].mean()\n",
    "        sloc = sample.groupby('gh_team_size', as_index=False)['gh_sloc'].mean()\n",
    "\n",
    "        sloc_list = sloc['gh_sloc'].tolist()\n",
    "        src_list = src['git_diff_src_churn'].tolist()\n",
    "\n",
    "        lower_half_mean_src = np.mean(src_list[:index]) / np.mean(sloc_list[:index])\n",
    "        upper_half_mean_src = np.mean(src_list[index:]) / np.mean(sloc_list[index:])\n",
    "\n",
    "        src_sloc[i][index] = lower_half_mean_src - upper_half_mean_src"
   ]
  },
  {
   "cell_type": "code",
   "execution_count": 7,
   "metadata": {},
   "outputs": [
    {
     "name": "stdout",
     "output_type": "stream",
     "text": [
      "[0.         0.00704723 0.01093167 0.01162272 0.01196149 0.01101596\n",
      " 0.0099676  0.00922294 0.00840573 0.00824215 0.00771267 0.00727986\n",
      " 0.00661817 0.00610116 0.00586643 0.00561407 0.00528495 0.00506248\n",
      " 0.00452977 0.00418005 0.00392966 0.00351087 0.00336194 0.00284973\n",
      " 0.00259917 0.00224074 0.00192488 0.00160134 0.00130628 0.00105686\n",
      " 0.00106281 0.00108421 0.00128479 0.0012565  0.00123076 0.0012573\n",
      " 0.0012814  0.00122887 0.00103985 0.00080358 0.00095368 0.00081888\n",
      " 0.0006664  0.00061834 0.00056708 0.00053207 0.0005792  0.00084341\n",
      " 0.00087372 0.0009371  0.000941   0.00107018 0.00103255 0.001064\n",
      " 0.00100941 0.00107879 0.00084651 0.00081198 0.00120246 0.        ]\n"
     ]
    }
   ],
   "source": [
    "print(src_sloc)"
   ]
  },
  {
   "cell_type": "code",
   "execution_count": 8,
   "metadata": {},
   "outputs": [
    {
     "data": {
      "text/plain": [
       "0.003317090210710709"
      ]
     },
     "execution_count": 8,
     "metadata": {},
     "output_type": "execute_result"
    }
   ],
   "source": [
    "compare = src_sloc > 0"
   ]
  }
 ],
 "metadata": {
  "kernelspec": {
   "display_name": "Python 3",
   "language": "python",
   "name": "python3"
  },
  "language_info": {
   "codemirror_mode": {
    "name": "ipython",
    "version": 3
   },
   "file_extension": ".py",
   "mimetype": "text/x-python",
   "name": "python",
   "nbconvert_exporter": "python",
   "pygments_lexer": "ipython3",
   "version": "3.7.1"
  }
 },
 "nbformat": 4,
 "nbformat_minor": 2
}
