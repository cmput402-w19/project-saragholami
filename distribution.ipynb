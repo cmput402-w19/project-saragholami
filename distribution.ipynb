{
 "cells": [
  {
   "cell_type": "code",
   "execution_count": 1,
   "metadata": {},
   "outputs": [],
   "source": [
    "import pandas as pd\n",
    "import numpy as np\n",
    "import statistics\n",
    "import seaborn as sns\n",
    "import matplotlib.pyplot as plt\n",
    "from scipy import stats\n",
    "from scipy.stats.stats import pearsonr"
   ]
  },
  {
   "cell_type": "code",
   "execution_count": 52,
   "metadata": {},
   "outputs": [],
   "source": [
    "df = pd.read_csv('./csv/travistorrent_8_2_2017.csv')"
   ]
  },
  {
   "cell_type": "code",
   "execution_count": 53,
   "metadata": {},
   "outputs": [],
   "source": [
    "# Dropping useless columns\n",
    "df = df.drop(\n",
    "        [\"tr_build_number\", \"git_branch\", \"gh_is_pr\", \"git_merged_with\", \"gh_pull_req_num\",\n",
    "         \"gh_commits_in_push\", \"git_prev_commit_resolution_status\", \"git_prev_built_commit\", \"tr_prev_build\",\n",
    "         \"git_all_built_commits\", \"git_trigger_commit\", \"tr_virtual_merged_into\", \"tr_original_commit\", \"tr_jobs\"],\n",
    "        axis=1)"
   ]
  },
  {
   "cell_type": "code",
   "execution_count": 54,
   "metadata": {},
   "outputs": [],
   "source": [
    "# Convert gh_pushed_at and gh_first_commit_created_at to delta time\n",
    "df['gh_pushed_at'] = pd.to_datetime(df['gh_pushed_at'])\n",
    "df['gh_first_commit_created_at'] = pd.to_datetime(df['gh_first_commit_created_at'])"
   ]
  },
  {
   "cell_type": "code",
   "execution_count": 55,
   "metadata": {},
   "outputs": [],
   "source": [
    "# Get date diff from them\n",
    "df['date_diff'] = df['gh_pushed_at'].sub(df['gh_first_commit_created_at'], axis=0)\n",
    "df[\"date_diff\"] = df[\"date_diff\"] / np.timedelta64(1, 'm')"
   ]
  },
  {
   "cell_type": "code",
   "execution_count": 56,
   "metadata": {},
   "outputs": [],
   "source": [
    "# Map gh_by_core_team_member to 0 and 1\n",
    "df['gh_by_core_team_member'] = df['gh_by_core_team_member'].map({True: 1, False: 0})"
   ]
  },
  {
   "cell_type": "code",
   "execution_count": 57,
   "metadata": {},
   "outputs": [],
   "source": [
    "# Dropping rows where travis status is canceled or started and mapping the rest to 0 and 1\n",
    "df = df[df.tr_status != 'canceled']\n",
    "df = df[df.tr_status != 'started']\n",
    "df['tr_status'] = df['tr_status'].map({'passed': 1, 'failed': 0, 'errored': 0})"
   ]
  },
  {
   "cell_type": "code",
   "execution_count": 58,
   "metadata": {},
   "outputs": [],
   "source": [
    "# Source and test code ratio and their ratio over time\n",
    "df[\"src_diff_ratio\"] = df[\"git_diff_src_churn\"] / df[\"gh_sloc\"]\n",
    "df[\"src_date\"] = df[\"src_diff_ratio\"] / df[\"date_diff\"]\n",
    "df[\"test_diff_ratio\"] = df[\"git_diff_test_churn\"] / df[\"gh_sloc\"]\n",
    "df[\"test_date\"] = df[\"test_diff_ratio\"] / df[\"date_diff\"]"
   ]
  },
  {
   "cell_type": "code",
   "execution_count": 70,
   "metadata": {},
   "outputs": [],
   "source": [
    "df.replace('', np.nan, inplace=True)\n",
    "df.replace([np.inf, -np.inf], np.nan, inplace=True)"
   ]
  },
  {
   "cell_type": "code",
   "execution_count": 71,
   "metadata": {},
   "outputs": [
    {
     "data": {
      "text/plain": [
       "tr_build_id                                 int64\n",
       "gh_project_name                            object\n",
       "gh_pr_created_at                           object\n",
       "gh_lang                                    object\n",
       "gh_num_commits_in_push                    float64\n",
       "gh_first_commit_created_at         datetime64[ns]\n",
       "gh_team_size                                int64\n",
       "git_num_all_built_commits                   int64\n",
       "gh_num_issue_comments                     float64\n",
       "gh_num_commit_comments                      int64\n",
       "gh_num_pr_comments                        float64\n",
       "git_diff_src_churn                          int64\n",
       "git_diff_test_churn                         int64\n",
       "gh_diff_files_added                         int64\n",
       "gh_diff_files_deleted                       int64\n",
       "gh_diff_files_modified                      int64\n",
       "gh_diff_tests_added                         int64\n",
       "gh_diff_tests_deleted                       int64\n",
       "gh_diff_src_files                           int64\n",
       "gh_diff_doc_files                           int64\n",
       "gh_diff_other_files                         int64\n",
       "gh_num_commits_on_files_touched             int64\n",
       "gh_sloc                                     int64\n",
       "gh_test_lines_per_kloc                    float64\n",
       "gh_test_cases_per_kloc                    float64\n",
       "gh_asserts_cases_per_kloc                 float64\n",
       "gh_by_core_team_member                      int64\n",
       "gh_description_complexity                 float64\n",
       "gh_pushed_at                       datetime64[ns]\n",
       "gh_build_started_at                        object\n",
       "tr_status                                   int64\n",
       "tr_duration                               float64\n",
       "tr_job_id                                   int64\n",
       "tr_log_lan                                 object\n",
       "tr_log_status                              object\n",
       "tr_log_setup_time                         float64\n",
       "tr_log_analyzer                            object\n",
       "tr_log_frameworks                          object\n",
       "tr_log_bool_tests_ran                        bool\n",
       "tr_log_bool_tests_failed                   object\n",
       "tr_log_num_tests_ok                       float64\n",
       "tr_log_num_tests_failed                   float64\n",
       "tr_log_num_tests_run                      float64\n",
       "tr_log_num_tests_skipped                  float64\n",
       "tr_log_tests_failed                        object\n",
       "tr_log_testduration                       float64\n",
       "tr_log_buildduration                      float64\n",
       "build_successful                             bool\n",
       "date_diff                                 float64\n",
       "src_diff_ratio                            float64\n",
       "src_date                                  float64\n",
       "test_diff_ratio                           float64\n",
       "test_date                                 float64\n",
       "dtype: object"
      ]
     },
     "execution_count": 71,
     "metadata": {},
     "output_type": "execute_result"
    }
   ],
   "source": [
    "df.dtypes"
   ]
  },
  {
   "cell_type": "code",
   "execution_count": 59,
   "metadata": {},
   "outputs": [],
   "source": [
    "df = df.sort_values('gh_team_size')"
   ]
  },
  {
   "cell_type": "code",
   "execution_count": 60,
   "metadata": {},
   "outputs": [
    {
     "name": "stdout",
     "output_type": "stream",
     "text": [
      "[  0   1   2   3   4   5   6   7   8   9  10  11  12  13  14  15  16  17\n",
      "  18  19  20  21  22  23  24  25  26  27  28  29  30  31  32  33  34  35\n",
      "  36  37  38  39  40  41  42  43  44  45  46  47  48  49  50  51  52  53\n",
      "  54  55  56  57  58  59  60  61  62  63  64  65  66  67  68  69  70  71\n",
      "  72  73  74  75  76  77  78  79  80  81  82  83  84  85  86  87  88  89\n",
      "  90  91  92  93  94  95  96  97  98  99 100 101 102 103 104 105 106 107\n",
      " 193 194 195 196 197 198 199 200 201 202 203 204 205 206 207 208 209 210\n",
      " 211 212 213 214 215 216 217 218 219 220 221 222 223 224 225 226 227 228\n",
      " 229 230 231 232 233 234 235 236 237 238 239 240 241 242 243 244 245 246\n",
      " 247 248 249 250 251 252 253 254 255 256 257 258 259 260 261 262 263 264\n",
      " 265 266 267 268 269 270 271 272 273 274 275 276 277 278 279 280 281 282\n",
      " 283 284 285 286 287 288]\n"
     ]
    }
   ],
   "source": [
    "team_size = df.gh_team_size.unique()\n",
    "print(team_size)"
   ]
  },
  {
   "cell_type": "code",
   "execution_count": 61,
   "metadata": {},
   "outputs": [
    {
     "data": {
      "text/plain": [
       "(array([3.323329e+06, 2.282020e+05, 4.798000e+04, 3.781200e+04,\n",
       "        2.213900e+04, 2.720000e+02, 1.490000e+03, 3.320000e+02,\n",
       "        2.320000e+02, 3.440000e+02]),\n",
       " array([3.0000000e+00, 1.3794930e+05, 2.7589560e+05, 4.1384190e+05,\n",
       "        5.5178820e+05, 6.8973450e+05, 8.2768080e+05, 9.6562710e+05,\n",
       "        1.1035734e+06, 1.2415197e+06, 1.3794660e+06]),\n",
       " <a list of 10 Patch objects>)"
      ]
     },
     "execution_count": 61,
     "metadata": {},
     "output_type": "execute_result"
    },
    {
     "data": {
      "image/png": "[encoded data removed]",
      "text/plain": [
       "<Figure size 432x288 with 1 Axes>"
      ]
     },
     "metadata": {
      "needs_background": "light"
     },
     "output_type": "display_data"
    }
   ],
   "source": [
    "plt.hist(df[\"gh_sloc\"], bins=10)"
   ]
  },
  {
   "cell_type": "code",
   "execution_count": 62,
   "metadata": {},
   "outputs": [
    {
     "data": {
      "text/plain": [
       "(array([2584468.,  529057.,   39282.,   40417.,       0.,       0.,\n",
       "          50792.,  342966.,   64517.,   10633.]),\n",
       " array([  0. ,  28.8,  57.6,  86.4, 115.2, 144. , 172.8, 201.6, 230.4,\n",
       "        259.2, 288. ]),\n",
       " <a list of 10 Patch objects>)"
      ]
     },
     "execution_count": 62,
     "metadata": {},
     "output_type": "execute_result"
    },
    {
     "data": {
      "image/png": "[encoded data removed]",
      "text/plain": [
       "<Figure size 432x288 with 1 Axes>"
      ]
     },
     "metadata": {
      "needs_background": "light"
     },
     "output_type": "display_data"
    }
   ],
   "source": [
    "plt.hist(df[\"gh_team_size\"], bins=10)"
   ]
  },
  {
   "cell_type": "code",
   "execution_count": 63,
   "metadata": {},
   "outputs": [
    {
     "data": {
      "text/plain": [
       "(array([3.662124e+06, 5.000000e+00, 0.000000e+00, 2.000000e+00,\n",
       "        0.000000e+00, 0.000000e+00, 0.000000e+00, 0.000000e+00,\n",
       "        0.000000e+00, 1.000000e+00]),\n",
       " array([      0. ,  527826.3, 1055652.6, 1583478.9, 2111305.2, 2639131.5,\n",
       "        3166957.8, 3694784.1, 4222610.4, 4750436.7, 5278263. ]),\n",
       " <a list of 10 Patch objects>)"
      ]
     },
     "execution_count": 63,
     "metadata": {},
     "output_type": "execute_result"
    },
    {
     "data": {
      "image/png": "[encoded data removed]",
      "text/plain": [
       "<Figure size 432x288 with 1 Axes>"
      ]
     },
     "metadata": {
      "needs_background": "light"
     },
     "output_type": "display_data"
    }
   ],
   "source": [
    "plt.hist(df[\"git_diff_src_churn\"], bins=10)"
   ]
  },
  {
   "cell_type": "code",
   "execution_count": 64,
   "metadata": {},
   "outputs": [
    {
     "data": {
      "text/plain": [
       "(array([3.66204e+06, 5.10000e+01, 2.30000e+01, 5.00000e+00, 5.00000e+00,\n",
       "        0.00000e+00, 5.00000e+00, 2.00000e+00, 0.00000e+00, 1.00000e+00]),\n",
       " array([     0. ,  39349.5,  78699. , 118048.5, 157398. , 196747.5,\n",
       "        236097. , 275446.5, 314796. , 354145.5, 393495. ]),\n",
       " <a list of 10 Patch objects>)"
      ]
     },
     "execution_count": 64,
     "metadata": {},
     "output_type": "execute_result"
    },
    {
     "data": {
      "image/png": "[encoded data removed]",
      "text/plain": [
       "<Figure size 432x288 with 1 Axes>"
      ]
     },
     "metadata": {
      "needs_background": "light"
     },
     "output_type": "display_data"
    }
   ],
   "source": [
    "plt.hist(df[\"git_diff_test_churn\"], bins=10)"
   ]
  },
  {
   "cell_type": "code",
   "execution_count": 72,
   "metadata": {},
   "outputs": [
    {
     "data": {
      "text/plain": [
       "(array([1.000000e+00, 7.900000e+01, 2.902758e+06, 1.390000e+02,\n",
       "        4.300000e+01, 1.200000e+01, 2.000000e+00, 2.000000e+00,\n",
       "        0.000000e+00, 1.100000e+01]),\n",
       " array([-147.        ,  -77.63333333,   -8.26666667,   61.1       ,\n",
       "         130.46666667,  199.83333333,  269.2       ,  338.56666667,\n",
       "         407.93333333,  477.3       ,  546.66666667]),\n",
       " <a list of 10 Patch objects>)"
      ]
     },
     "execution_count": 72,
     "metadata": {},
     "output_type": "execute_result"
    },
    {
     "data": {
      "image/png": "[encoded data removed]",
      "text/plain": [
       "<Figure size 432x288 with 1 Axes>"
      ]
     },
     "metadata": {
      "needs_background": "light"
     },
     "output_type": "display_data"
    }
   ],
   "source": [
    "plt.hist(df[\"src_date\"], bins=10)"
   ]
  },
  {
   "cell_type": "code",
   "execution_count": 73,
   "metadata": {},
   "outputs": [
    {
     "data": {
      "text/plain": [
       "(array([1.400000e+01, 2.902762e+06, 2.350000e+02, 2.700000e+01,\n",
       "        4.000000e+00, 0.000000e+00, 0.000000e+00, 0.000000e+00,\n",
       "        1.000000e+00, 4.000000e+00]),\n",
       " array([-69.05982906, -25.77884615,  17.50213675,  60.78311966,\n",
       "        104.06410256, 147.34508547, 190.62606838, 233.90705128,\n",
       "        277.18803419, 320.46901709, 363.75      ]),\n",
       " <a list of 10 Patch objects>)"
      ]
     },
     "execution_count": 73,
     "metadata": {},
     "output_type": "execute_result"
    },
    {
     "data": {
      "image/png": "[encoded data removed]",
      "text/plain": [
       "<Figure size 432x288 with 1 Axes>"
      ]
     },
     "metadata": {
      "needs_background": "light"
     },
     "output_type": "display_data"
    }
   ],
   "source": [
    "plt.hist(df[\"test_date\"], bins=10)"
   ]
  },
  {
   "cell_type": "code",
   "execution_count": 74,
   "metadata": {},
   "outputs": [
    {
     "data": {
      "text/plain": [
       "(array([2.883347e+06, 2.273700e+04, 5.953000e+03, 1.652000e+03,\n",
       "        6.970000e+02, 2.480000e+02, 6.300000e+01, 1.100000e+01,\n",
       "        2.000000e+00, 9.000000e+00]),\n",
       " array([  -5703.3  ,  291034.945,  587773.19 ,  884511.435, 1181249.68 ,\n",
       "        1477987.925, 1774726.17 , 2071464.415, 2368202.66 , 2664940.905,\n",
       "        2961679.15 ]),\n",
       " <a list of 10 Patch objects>)"
      ]
     },
     "execution_count": 74,
     "metadata": {},
     "output_type": "execute_result"
    },
    {
     "data": {
      "image/png": "[encoded data removed]",
      "text/plain": [
       "<Figure size 432x288 with 1 Axes>"
      ]
     },
     "metadata": {
      "needs_background": "light"
     },
     "output_type": "display_data"
    }
   ],
   "source": [
    "plt.hist(df[\"date_diff\"], bins=10)"
   ]
  },
  {
   "cell_type": "code",
   "execution_count": 79,
   "metadata": {},
   "outputs": [],
   "source": [
    "subdf = df.loc[df['gh_team_size'] < 60]\n",
    "team_size2 = subdf.gh_team_size.unique()"
   ]
  },
  {
   "cell_type": "code",
   "execution_count": 83,
   "metadata": {},
   "outputs": [
    {
     "data": {
      "text/plain": [
       "SpearmanrResult(correlation=-0.4653514865240346, pvalue=0.00017935171424133953)"
      ]
     },
     "execution_count": 83,
     "metadata": {},
     "output_type": "execute_result"
    }
   ],
   "source": [
    "d = np.array(subdf.groupby('gh_team_size', as_index=False)['date_diff'].mean()[\"date_diff\"].tolist(), dtype=np.float)\n",
    "stats.spearmanr(team_size2, d)"
   ]
  },
  {
   "cell_type": "code",
   "execution_count": 82,
   "metadata": {},
   "outputs": [
    {
     "data": {
      "text/plain": [
       "SpearmanrResult(correlation=-0.7203667685468187, pvalue=8.677774176106167e-11)"
      ]
     },
     "execution_count": 82,
     "metadata": {},
     "output_type": "execute_result"
    }
   ],
   "source": [
    "s = np.array(subdf.groupby('gh_team_size', as_index=False)['src_date'].mean()[\"src_date\"].tolist(), dtype=np.float)\n",
    "stats.spearmanr(team_size2, s)"
   ]
  },
  {
   "cell_type": "code",
   "execution_count": 84,
   "metadata": {},
   "outputs": [
    {
     "data": {
      "text/plain": [
       "SpearmanrResult(correlation=-0.8134481800500141, pvalue=2.845975735065003e-15)"
      ]
     },
     "execution_count": 84,
     "metadata": {},
     "output_type": "execute_result"
    }
   ],
   "source": [
    "s = np.array(subdf.groupby('gh_team_size', as_index=False)['test_date'].mean()[\"test_date\"].tolist(), dtype=np.float)\n",
    "stats.spearmanr(team_size2, s)"
   ]
  },
  {
   "cell_type": "code",
   "execution_count": 85,
   "metadata": {},
   "outputs": [
    {
     "data": {
      "text/plain": [
       "SpearmanrResult(correlation=-0.7210336204501252, pvalue=8.181651679391172e-11)"
      ]
     },
     "execution_count": 85,
     "metadata": {},
     "output_type": "execute_result"
    }
   ],
   "source": [
    "s = np.array(subdf.groupby('gh_team_size', as_index=False)['src_diff_ratio'].mean()[\"src_diff_ratio\"].tolist(), dtype=np.float)\n",
    "stats.spearmanr(team_size2, s)"
   ]
  },
  {
   "cell_type": "code",
   "execution_count": 86,
   "metadata": {},
   "outputs": [
    {
     "data": {
      "text/plain": [
       "SpearmanrResult(correlation=-0.6605168102250627, pvalue=9.339952208284393e-09)"
      ]
     },
     "execution_count": 86,
     "metadata": {},
     "output_type": "execute_result"
    }
   ],
   "source": [
    "s = np.array(subdf.groupby('gh_team_size', as_index=False)['test_diff_ratio'].mean()[\"test_diff_ratio\"].tolist(), dtype=np.float)\n",
    "stats.spearmanr(team_size2, s)"
   ]
  },
  {
   "cell_type": "code",
   "execution_count": 87,
   "metadata": {},
   "outputs": [
    {
     "data": {
      "text/plain": [
       "SpearmanrResult(correlation=0.0010002778549597113, pvalue=0.993948001796065)"
      ]
     },
     "execution_count": 87,
     "metadata": {},
     "output_type": "execute_result"
    }
   ],
   "source": [
    "ok = np.array(subdf.groupby('gh_team_size', as_index=False)['tr_log_num_tests_ok'].mean()[\"tr_log_num_tests_ok\"].tolist(), dtype=np.float)\n",
    "run = np.array(subdf.groupby('gh_team_size', as_index=False)['tr_log_num_tests_run'].mean()[\"tr_log_num_tests_run\"].tolist(), dtype=np.float)\n",
    "stats.spearmanr(team_size2, ok / run)"
   ]
  },
  {
   "cell_type": "code",
   "execution_count": 88,
   "metadata": {},
   "outputs": [
    {
     "data": {
      "text/plain": [
       "SpearmanrResult(correlation=-0.34915254237288146, pvalue=0.006252063659835836)"
      ]
     },
     "execution_count": 88,
     "metadata": {},
     "output_type": "execute_result"
    }
   ],
   "source": [
    "fail = np.array(subdf.groupby('gh_team_size', as_index=False)['tr_log_num_tests_failed'].mean()[\"tr_log_num_tests_failed\"].tolist(), dtype=np.float)\n",
    "stats.spearmanr(team_size2, fail / run)"
   ]
  },
  {
   "cell_type": "code",
   "execution_count": null,
   "metadata": {},
   "outputs": [],
   "source": []
  },
  {
   "cell_type": "code",
   "execution_count": null,
   "metadata": {},
   "outputs": [],
   "source": []
  }
 ],
 "metadata": {
  "kernelspec": {
   "display_name": "Python 3",
   "language": "python",
   "name": "python3"
  },
  "language_info": {
   "codemirror_mode": {
    "name": "ipython",
    "version": 3
   },
   "file_extension": ".py",
   "mimetype": "text/x-python",
   "name": "python",
   "nbconvert_exporter": "python",
   "pygments_lexer": "ipython3",
   "version": "3.7.1"
  }
 },
 "nbformat": 4,
 "nbformat_minor": 2
}
