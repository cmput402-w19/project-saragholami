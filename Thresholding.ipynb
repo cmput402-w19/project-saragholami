{
 "cells": [
  {
   "cell_type": "code",
   "execution_count": 16,
   "metadata": {},
   "outputs": [],
   "source": [
    "import pandas as pd\n",
    "import numpy as np\n",
    "import statistics\n",
    "import seaborn as sns\n",
    "import matplotlib.pyplot as plt\n",
    "from scipy import stats\n",
    "from scipy.stats.stats import pearsonr"
   ]
  },
  {
   "cell_type": "code",
   "execution_count": 69,
   "metadata": {},
   "outputs": [],
   "source": [
    "df = pd.read_csv('./csv/refined.csv')"
   ]
  },
  {
   "cell_type": "code",
   "execution_count": 72,
   "metadata": {},
   "outputs": [
    {
     "data": {
      "text/plain": [
       "(1550252, 22)"
      ]
     },
     "execution_count": 72,
     "metadata": {},
     "output_type": "execute_result"
    }
   ],
   "source": [
    "df.shape"
   ]
  },
  {
   "cell_type": "code",
   "execution_count": 73,
   "metadata": {},
   "outputs": [
    {
     "name": "stdout",
     "output_type": "stream",
     "text": [
      "[ 0  1  2  3  4  5  6  7  8  9 10 11 12 13 14 15 16 17 18 19 20 21 22 23\n",
      " 24 25 26 27 28 29 30 31 32 33 34 35 36 37 38 39 40 41 42 43 44 45 46 47\n",
      " 48 49 50 51 52 53 54 55 56 57 58 59]\n"
     ]
    }
   ],
   "source": [
    "team_size = df.gh_team_size.unique()\n",
    "print(team_size)"
   ]
  },
  {
   "cell_type": "code",
   "execution_count": 74,
   "metadata": {},
   "outputs": [],
   "source": [
    "sample_set = 100"
   ]
  },
  {
   "cell_type": "code",
   "execution_count": 75,
   "metadata": {},
   "outputs": [],
   "source": [
    "src_sloc = np.zeros((sample_set, len(team_size)))\n",
    "test_sloc = np.zeros((sample_set, len(team_size)))\n",
    "status_failed = np.zeros((sample_set, len(team_size)))\n",
    "status_passed = np.zeros((sample_set, len(team_size)))\n",
    "test_failed = np.zeros((sample_set, len(team_size)))\n",
    "test_ok = np.zeros((sample_set, len(team_size)))\n",
    "date = np.zeros((sample_set, len(team_size)))\n",
    "src_date_res = np.zeros((sample_set, len(team_size)))\n",
    "test_date_res = np.zeros((sample_set, len(team_size)))"
   ]
  },
  {
   "cell_type": "code",
   "execution_count": null,
   "metadata": {},
   "outputs": [
    {
     "name": "stdout",
     "output_type": "stream",
     "text": [
      "0\n",
      "(1550252, 22)\n"
     ]
    },
    {
     "name": "stderr",
     "output_type": "stream",
     "text": [
      "C:\\Users\\norouziy\\AppData\\Local\\Continuum\\anaconda3\\lib\\site-packages\\ipykernel_launcher.py:69: RuntimeWarning: invalid value encountered in double_scalars\n",
      "C:\\Users\\norouziy\\AppData\\Local\\Continuum\\anaconda3\\lib\\site-packages\\ipykernel_launcher.py:70: RuntimeWarning: invalid value encountered in double_scalars\n"
     ]
    },
    {
     "name": "stdout",
     "output_type": "stream",
     "text": [
      "1\n",
      "(1550252, 22)\n",
      "2\n",
      "(1550252, 22)\n",
      "3\n",
      "(1550252, 22)\n",
      "4\n",
      "(1550252, 22)\n",
      "5\n",
      "(1550252, 22)\n",
      "6\n",
      "(1550252, 22)\n",
      "7\n",
      "(1550252, 22)\n",
      "8\n",
      "(1550252, 22)\n",
      "9\n",
      "(1550252, 22)\n",
      "10\n",
      "(1550252, 22)\n",
      "11\n",
      "(1550252, 22)\n",
      "12\n",
      "(1550252, 22)\n",
      "13\n",
      "(1550252, 22)\n",
      "14\n",
      "(1550252, 22)\n",
      "15\n",
      "(1550252, 22)\n",
      "16\n",
      "(1550252, 22)\n",
      "17\n",
      "(1550252, 22)\n",
      "18\n",
      "(1550252, 22)\n",
      "19\n",
      "(1550252, 22)\n",
      "20\n",
      "(1550252, 22)\n",
      "21\n",
      "(1550252, 22)\n",
      "22\n",
      "(1550252, 22)\n",
      "23\n",
      "(1550252, 22)\n",
      "24\n",
      "(1550252, 22)\n",
      "25\n",
      "(1550252, 22)\n",
      "26\n",
      "(1550252, 22)\n",
      "27\n",
      "(1550252, 22)\n",
      "28\n",
      "(1550252, 22)\n",
      "29\n",
      "(1550252, 22)\n",
      "30\n",
      "(1550252, 22)\n"
     ]
    }
   ],
   "source": [
    "for i in range(sample_set):\n",
    "    print(i)\n",
    "    sample = df.sample(frac=1, replace=True)\n",
    "    print(sample.shape)\n",
    "    sample = sample.sort_values('gh_team_size')\n",
    "    \n",
    "    for index, threshold in enumerate(team_size):\n",
    "        if index == 0 or index == len(team_size) - 1:\n",
    "            continue\n",
    "\n",
    "        src = sample.groupby('gh_team_size', as_index=False)['git_diff_src_churn'].mean()\n",
    "        test = sample.groupby('gh_team_size', as_index=False)['git_diff_test_churn'].mean()\n",
    "        sloc = sample.groupby('gh_team_size', as_index=False)['gh_sloc'].mean()\n",
    "        counts = sample.groupby(['gh_team_size']).size().reset_index(name='counts')\n",
    "        failed = sample.groupby(['gh_team_size']).tr_status.value_counts().unstack(fill_value=0).loc[:, 0].tolist()\n",
    "        passed = sample.groupby(['gh_team_size']).tr_status.value_counts().unstack(fill_value=0).loc[:, 1].tolist()\n",
    "        failed_tests = df.groupby('gh_team_size', as_index=False)['tr_log_num_tests_failed'].mean()\n",
    "        ok_tests = sample.groupby('gh_team_size', as_index=False)['tr_log_num_tests_ok'].mean()\n",
    "        total_tests = sample.groupby('gh_team_size', as_index=False)['tr_log_num_tests_run'].mean()\n",
    "        date_diff = sample.groupby('gh_team_size', as_index=False)['date_diff'].mean()\n",
    "        src_date = sample.groupby('gh_team_size', as_index=False)['src_date'].mean()\n",
    "        test_date = sample.groupby('gh_team_size', as_index=False)['test_date'].mean()\n",
    "        \n",
    "        sloc_list = sloc['gh_sloc'].tolist()\n",
    "        test_list = test['git_diff_test_churn'].tolist()\n",
    "        src_list = src['git_diff_src_churn'].tolist()\n",
    "        failed_tests_list = failed_tests['tr_log_num_tests_failed'].tolist()\n",
    "        total_tests_list = total_tests['tr_log_num_tests_run'].tolist()\n",
    "        ok_tests_list = ok_tests['tr_log_num_tests_ok'].tolist()\n",
    "        date_diff_list = date_diff['date_diff'].tolist()\n",
    "        src_date_list = src_date['src_date'].tolist()\n",
    "        test_date_list = test_date['test_date'].tolist()\n",
    "        total_status = list(counts['counts'])\n",
    "\n",
    "        lower_half_mean_src = np.mean(src_list[:index]) / np.mean(sloc_list[:index])\n",
    "        upper_half_mean_src = np.mean(src_list[index:]) / np.mean(sloc_list[index:])\n",
    "        \n",
    "        lower_half_mean_test = np.mean(test_list[:index]) / np.mean(sloc_list[:index])\n",
    "        upper_half_mean_test = np.mean(test_list[index:]) / np.mean(sloc_list[index:])\n",
    "        \n",
    "        lower_half_mean_failure = np.mean(failed[:index]) / np.mean(total_status[:index])\n",
    "        upper_half_mean_failure = np.mean(failed[index:]) / np.mean(total_status[index:])\n",
    "\n",
    "        lower_half_mean_passed = np.mean(passed[:index]) / np.mean(total_status[:index])\n",
    "        upper_half_mean_passed = np.mean(passed[index:]) / np.mean(total_status[index:])\n",
    "        \n",
    "        lower_half_failed_tests = np.mean(failed_tests_list[:index]) / np.mean(total_tests_list[:index])\n",
    "        upper_half_failed_tests = np.mean(failed_tests_list[index:]) / np.mean(total_tests_list[index:])\n",
    "        \n",
    "        lower_half_ok_tests = np.mean(ok_tests_list[:index]) / np.mean(total_tests_list[:index])\n",
    "        upper_half_ok_tests = np.mean(ok_tests_list[index:]) / np.mean(total_tests_list[index:])\n",
    "        \n",
    "        lower_half_date_diff = np.mean(date_diff_list[:index])\n",
    "        upper_half_date_diff = np.mean(date_diff_list[index:])\n",
    "        \n",
    "        lower_half_src_date = np.mean(src_date_list[:index])\n",
    "        upper_half_src_date = np.mean(src_date_list[index:])\n",
    "        \n",
    "        lower_half_test_date = np.mean(test_date_list[:index])\n",
    "        upper_half_test_date = np.mean(test_date_list[index:])\n",
    "\n",
    "        src_sloc[i][index] = lower_half_mean_src - upper_half_mean_src\n",
    "        test_sloc[i][index] = lower_half_mean_test - upper_half_mean_test\n",
    "        status_failed[i][index] = lower_half_mean_failure - upper_half_mean_failure\n",
    "        status_passed[i][index] = lower_half_mean_passed - upper_half_mean_passed\n",
    "        test_failed[i][index] = lower_half_failed_tests - upper_half_failed_tests\n",
    "        test_ok[i][index] = lower_half_ok_tests - upper_half_ok_tests\n",
    "        date[i][index] = lower_half_date_diff - upper_half_date_diff\n",
    "        src_date_res[i][index] = lower_half_src_date - upper_half_src_date\n",
    "        test_date_res[i][index] = lower_half_test_date - upper_half_test_date"
   ]
  },
  {
   "cell_type": "code",
   "execution_count": 23,
   "metadata": {},
   "outputs": [],
   "source": [
    "compare_src_sloc = src_sloc > 0\n",
    "compare_test_sloc = test_sloc > 0\n",
    "compare_status_failed = status_failed > 0\n",
    "compare_status_passed = status_passed > 0\n",
    "compare_test_failed = test_failed > 0\n",
    "compare_test_ok = test_ok > 0\n",
    "compare_date_dif = date > 0\n",
    "compare_src_date = src_date_res > 0\n",
    "compare_test_date = test_date_res > 0"
   ]
  },
  {
   "cell_type": "code",
   "execution_count": 27,
   "metadata": {},
   "outputs": [],
   "source": [
    "sum_src_sloc = np.zeros(len(team_size))\n",
    "sum_test_sloc = np.zeros(len(team_size))\n",
    "sum_status_failed = np.zeros(len(team_size))\n",
    "sum_status_passed = np.zeros(len(team_size))\n",
    "sum_test_failed = np.zeros(len(team_size))\n",
    "sum_test_ok = np.zeros(len(team_size))\n",
    "sum_date_diff = np.zeros(len(team_size))\n",
    "sum_src_date = np.zeros(len(team_size))\n",
    "sum_test_date = np.zeros(len(team_size))\n",
    "for i in range(len(team_size)):\n",
    "    sum_src_sloc[i] = np.sum(compare_src_sloc[:, i])\n",
    "    sum_test_sloc[i] = np.sum(compare_test_sloc[:, i])\n",
    "    sum_status_failed[i] = np.sum(compare_status_failed[:, i])\n",
    "    sum_status_passed[i] = np.sum(compare_status_passed[:, i])\n",
    "    sum_test_failed[i] = np.sum(compare_test_failed[:, i])\n",
    "    sum_test_ok[i] = np.sum(compare_test_ok[:, i])\n",
    "    sum_date_diff[i] = np.sum(compare_date_dif[:, i])\n",
    "    sum_src_date[i] = np.sum(compare_src_date[:, i])\n",
    "    sum_test_date[i] = np.sum(compare_test_date[:, i])"
   ]
  },
  {
   "cell_type": "code",
   "execution_count": 34,
   "metadata": {},
   "outputs": [],
   "source": [
    "mean_threshold = np.zeros(len(team_size))\n",
    "for i in range(len(team_size)):\n",
    "    mean_threshold[i] = np.mean(np.array([sum_src_sloc[i], sum_test_sloc[i], sum_status_failed[i], sum_status_passed[i], sum_test_failed[i], sum_test_ok[i], sum_date_diff[i], sum_src_date[i], sum_test_date[i]]))"
   ]
  },
  {
   "cell_type": "code",
   "execution_count": 35,
   "metadata": {},
   "outputs": [
    {
     "name": "stdout",
     "output_type": "stream",
     "text": [
      "[ 0.         44.44444444 55.77777778 55.55555556 58.66666667 68.55555556\n",
      " 76.77777778 77.77777778 77.77777778 77.77777778 77.77777778 77.66666667\n",
      " 77.11111111 77.66666667 77.77777778 77.77777778 77.77777778 77.77777778\n",
      " 77.77777778 77.77777778 77.77777778 77.77777778 77.77777778 77.77777778\n",
      " 77.77777778 77.77777778 77.77777778 77.77777778 77.77777778 77.77777778\n",
      " 77.77777778 77.77777778 77.77777778 77.77777778 77.77777778 77.77777778\n",
      " 77.77777778 77.77777778 77.77777778 77.77777778 77.77777778 77.77777778\n",
      " 77.77777778 77.77777778 77.77777778 77.77777778 77.77777778 77.66666667\n",
      " 77.55555556 77.33333333 77.11111111 76.33333333 77.22222222 76.11111111\n",
      " 72.22222222 68.33333333 68.11111111 67.         77.66666667  0.        ]\n"
     ]
    }
   ],
   "source": [
    "print(mean_threshold)"
   ]
  },
  {
   "cell_type": "code",
   "execution_count": 38,
   "metadata": {},
   "outputs": [
    {
     "name": "stdout",
     "output_type": "stream",
     "text": [
      "7\n"
     ]
    }
   ],
   "source": [
    "selected = np.argmax(mean_threshold)\n",
    "print(selected)"
   ]
  },
  {
   "cell_type": "code",
   "execution_count": 71,
   "metadata": {},
   "outputs": [
    {
     "data": {
      "image/png": "[encoded data removed]",
      "text/plain": [
       "<Figure size 432x288 with 1 Axes>"
      ]
     },
     "metadata": {
      "needs_background": "light"
     },
     "output_type": "display_data"
    }
   ],
   "source": [
    "x = pd.Series(src_sloc[:, selected], name=\"Difference of source code changes ratio\")\n",
    "sns.distplot(x, hist=True, kde=True,\n",
    "                 bins=10, color='burlywood',\n",
    "                 hist_kws={'edgecolor': 'black'},\n",
    "                 kde_kws={'linewidth': 4, 'color': 'darkorange'})\n",
    "plt.savefig('./figs/src_sloc_ratio.eps', format='eps')"
   ]
  },
  {
   "cell_type": "code",
   "execution_count": 64,
   "metadata": {},
   "outputs": [
    {
     "data": {
      "image/png": "[encoded data removed]",
      "text/plain": [
       "<Figure size 432x288 with 1 Axes>"
      ]
     },
     "metadata": {
      "needs_background": "light"
     },
     "output_type": "display_data"
    }
   ],
   "source": [
    "x = pd.Series(test_sloc[:, selected], name=\"Difference of test code changes ratio\")\n",
    "sns.distplot(x, hist=True, kde=True,\n",
    "                 bins=10, color='skyblue',\n",
    "                 hist_kws={'edgecolor': 'black'},\n",
    "                 kde_kws={'linewidth': 4, 'color': 'deepskyblue'})\n",
    "plt.savefig('./figs/test_sloc_ratio.eps', format='eps')"
   ]
  },
  {
   "cell_type": "code",
   "execution_count": 63,
   "metadata": {},
   "outputs": [
    {
     "data": {
      "image/png": "[encoded data removed]",
      "text/plain": [
       "<Figure size 432x288 with 1 Axes>"
      ]
     },
     "metadata": {
      "needs_background": "light"
     },
     "output_type": "display_data"
    }
   ],
   "source": [
    "x = pd.Series(status_failed[:, selected], name=\"Difference of Travis status failure ratio\")\n",
    "sns.distplot(x, hist=True, kde=True,\n",
    "                 bins=10, color='palevioletred',\n",
    "                 hist_kws={'edgecolor': 'black'},\n",
    "                 kde_kws={'linewidth': 4, 'color': 'crimson'})\n",
    "plt.savefig('./figs/status_failed.eps', format='eps')"
   ]
  },
  {
   "cell_type": "code",
   "execution_count": 66,
   "metadata": {},
   "outputs": [
    {
     "data": {
      "image/png": "[encoded data removed]",
      "text/plain": [
       "<Figure size 432x288 with 1 Axes>"
      ]
     },
     "metadata": {
      "needs_background": "light"
     },
     "output_type": "display_data"
    }
   ],
   "source": [
    "x = pd.Series(status_passed[:, selected], name=\"Difference of Travis status passed ratio\")\n",
    "sns.distplot(x, hist=True, kde=True,\n",
    "                 bins=10, color='mediumseagreen',\n",
    "                 hist_kws={'edgecolor': 'black'},\n",
    "                 kde_kws={'linewidth': 4, 'color': 'darkgreen'})\n",
    "plt.savefig('./figs/status_passed.eps', format='eps')"
   ]
  },
  {
   "cell_type": "code",
   "execution_count": 68,
   "metadata": {},
   "outputs": [
    {
     "data": {
      "image/png": "[encoded data removed]",
      "text/plain": [
       "<Figure size 432x288 with 1 Axes>"
      ]
     },
     "metadata": {
      "needs_background": "light"
     },
     "output_type": "display_data"
    }
   ],
   "source": [
    "x = pd.Series(test_failed[:, selected], name=\"Difference of tests failure ratio\")\n",
    "sns.distplot(x, hist=True, kde=True,\n",
    "                 bins=10, color='salmon',\n",
    "                 hist_kws={'edgecolor': 'black'},\n",
    "                 kde_kws={'linewidth': 4, 'color': 'orangered'})\n",
    "plt.savefig('./figs/test_failed_ratio.eps', format='eps')"
   ]
  },
  {
   "cell_type": "code",
   "execution_count": 59,
   "metadata": {},
   "outputs": [
    {
     "data": {
      "image/png": "[encoded data removed]",
      "text/plain": [
       "<Figure size 432x288 with 1 Axes>"
      ]
     },
     "metadata": {
      "needs_background": "light"
     },
     "output_type": "display_data"
    }
   ],
   "source": [
    "x = pd.Series(test_ok[:, selected], name=\"Difference of tests OK ratio\")\n",
    "sns.distplot(x, hist=True, kde=True,\n",
    "                 bins=10, color='limegreen',\n",
    "                 hist_kws={'edgecolor': 'black'},\n",
    "                 kde_kws={'linewidth': 4, 'color': 'forestgreen'})\n",
    "plt.savefig('./figs/test_ok_ratio.eps', format='eps')"
   ]
  },
  {
   "cell_type": "code",
   "execution_count": 58,
   "metadata": {},
   "outputs": [
    {
     "data": {
      "image/png": "[encoded data removed]",
      "text/plain": [
       "<Figure size 432x288 with 1 Axes>"
      ]
     },
     "metadata": {
      "needs_background": "light"
     },
     "output_type": "display_data"
    }
   ],
   "source": [
    "sns.distplot(date[:, selected], hist=True, kde=True,\n",
    "                 bins=10, color='orchid',\n",
    "                 hist_kws={'edgecolor': 'black'},\n",
    "                 kde_kws={'linewidth': 4, 'color': 'mediumvioletred'})\n",
    "plt.savefig('./figs/date.eps', format='eps')"
   ]
  },
  {
   "cell_type": "code",
   "execution_count": 67,
   "metadata": {},
   "outputs": [
    {
     "data": {
      "image/png": "[encoded data removed]",
      "text/plain": [
       "<Figure size 432x288 with 1 Axes>"
      ]
     },
     "metadata": {
      "needs_background": "light"
     },
     "output_type": "display_data"
    }
   ],
   "source": [
    "x = pd.Series(src_date_res[:, selected], name=\"Difference of source code changes over time ratio\")\n",
    "sns.distplot(x, hist=True, kde=True,\n",
    "                 bins=10, color='lightsalmon',\n",
    "                 hist_kws={'edgecolor': 'black'},\n",
    "                 kde_kws={'linewidth': 4, 'color': 'tomato'})\n",
    "plt.savefig('./figs/src_date_ratio.eps', format='eps')"
   ]
  },
  {
   "cell_type": "code",
   "execution_count": 54,
   "metadata": {},
   "outputs": [
    {
     "data": {
      "image/png": "[encoded data removed]",
      "text/plain": [
       "<Figure size 432x288 with 1 Axes>"
      ]
     },
     "metadata": {
      "needs_background": "light"
     },
     "output_type": "display_data"
    }
   ],
   "source": [
    "x = pd.Series(test_date_res[:, selected], name=\"Difference of test code changes over time ratio\")\n",
    "sns.distplot(x, hist=True, kde=True,\n",
    "                 bins=10, color='darkorchid',\n",
    "                 hist_kws={'edgecolor': 'black'},\n",
    "                 kde_kws={'linewidth': 4, 'color': 'indigo'})\n",
    "plt.savefig('./figs/test_date_ratio.eps', format='eps')"
   ]
  },
  {
   "cell_type": "code",
   "execution_count": 170,
   "metadata": {},
   "outputs": [
    {
     "data": {
      "text/plain": [
       "(nan, 1.0)"
      ]
     },
     "execution_count": 170,
     "metadata": {},
     "output_type": "execute_result"
    }
   ],
   "source": [
    "pearsonr(df['gh_team_size'], df['date_diff'])"
   ]
  },
  {
   "cell_type": "code",
   "execution_count": 73,
   "metadata": {},
   "outputs": [
    {
     "data": {
      "text/plain": [
       "Unnamed: 0                           int64\n",
       "gh_project_name                     object\n",
       "gh_pr_created_at                    object\n",
       "gh_lang                             object\n",
       "gh_num_commits_in_push             float64\n",
       "gh_first_commit_created_at          object\n",
       "gh_team_size                         int64\n",
       "git_num_all_built_commits            int64\n",
       "gh_num_issue_comments              float64\n",
       "gh_num_commit_comments               int64\n",
       "gh_num_pr_comments                 float64\n",
       "git_diff_src_churn                   int64\n",
       "git_diff_test_churn                  int64\n",
       "gh_diff_files_added                  int64\n",
       "gh_diff_files_deleted                int64\n",
       "gh_diff_files_modified               int64\n",
       "gh_diff_tests_added                  int64\n",
       "gh_diff_tests_deleted                int64\n",
       "gh_diff_src_files                    int64\n",
       "gh_diff_doc_files                    int64\n",
       "gh_diff_other_files                  int64\n",
       "gh_num_commits_on_files_touched      int64\n",
       "gh_sloc                              int64\n",
       "gh_test_lines_per_kloc             float64\n",
       "gh_test_cases_per_kloc             float64\n",
       "gh_asserts_cases_per_kloc          float64\n",
       "gh_by_core_team_member               int64\n",
       "gh_description_complexity          float64\n",
       "gh_pushed_at                        object\n",
       "gh_build_started_at                 object\n",
       "tr_status                            int64\n",
       "tr_duration                        float64\n",
       "tr_log_lan                          object\n",
       "tr_log_status                       object\n",
       "tr_log_setup_time                  float64\n",
       "tr_log_analyzer                     object\n",
       "tr_log_frameworks                   object\n",
       "tr_log_bool_tests_ran                 bool\n",
       "tr_log_bool_tests_failed            object\n",
       "tr_log_num_tests_ok                float64\n",
       "tr_log_num_tests_failed            float64\n",
       "tr_log_num_tests_run               float64\n",
       "tr_log_num_tests_skipped           float64\n",
       "tr_log_tests_failed                 object\n",
       "tr_log_testduration                float64\n",
       "tr_log_buildduration               float64\n",
       "build_successful                      bool\n",
       "date_diff                          float64\n",
       "src_diff_ratio                     float64\n",
       "src_date                           float64\n",
       "test_diff_ratio                    float64\n",
       "test_date                          float64\n",
       "dtype: object"
      ]
     },
     "execution_count": 73,
     "metadata": {},
     "output_type": "execute_result"
    }
   ],
   "source": [
    "df.dtypes"
   ]
  },
  {
   "cell_type": "code",
   "execution_count": 134,
   "metadata": {},
   "outputs": [
    {
     "data": {
      "text/plain": [
       "Ks_2sampResult(statistic=0.5449814527343254, pvalue=0.0)"
      ]
     },
     "execution_count": 134,
     "metadata": {},
     "output_type": "execute_result"
    }
   ],
   "source": [
    "stats.ks_2samp(df['gh_team_size'], df['date_diff'])"
   ]
  },
  {
   "cell_type": "code",
   "execution_count": 135,
   "metadata": {},
   "outputs": [
    {
     "data": {
      "text/plain": [
       "Ks_2sampResult(statistic=0.7823774654253031, pvalue=0.0)"
      ]
     },
     "execution_count": 135,
     "metadata": {},
     "output_type": "execute_result"
    }
   ],
   "source": [
    "stats.ks_2samp(df['gh_team_size'], df['src_date'])"
   ]
  },
  {
   "cell_type": "code",
   "execution_count": 136,
   "metadata": {},
   "outputs": [
    {
     "data": {
      "text/plain": [
       "Ks_2sampResult(statistic=0.7854523054719891, pvalue=0.0)"
      ]
     },
     "execution_count": 136,
     "metadata": {},
     "output_type": "execute_result"
    }
   ],
   "source": [
    "stats.ks_2samp(df['gh_team_size'], df['test_date'])"
   ]
  },
  {
   "cell_type": "code",
   "execution_count": 137,
   "metadata": {},
   "outputs": [
    {
     "data": {
      "text/plain": [
       "Ks_2sampResult(statistic=0.9963149427146931, pvalue=0.0)"
      ]
     },
     "execution_count": 137,
     "metadata": {},
     "output_type": "execute_result"
    }
   ],
   "source": [
    "stats.ks_2samp(df['gh_team_size'], df['test_diff_ratio'])"
   ]
  },
  {
   "cell_type": "code",
   "execution_count": 138,
   "metadata": {},
   "outputs": [
    {
     "data": {
      "text/plain": [
       "Ks_2sampResult(statistic=0.9945626145160441, pvalue=0.0)"
      ]
     },
     "execution_count": 138,
     "metadata": {},
     "output_type": "execute_result"
    }
   ],
   "source": [
    "stats.ks_2samp(df['gh_team_size'], df['src_diff_ratio'])"
   ]
  },
  {
   "cell_type": "code",
   "execution_count": 139,
   "metadata": {},
   "outputs": [
    {
     "data": {
      "text/plain": [
       "Ttest_indResult(statistic=1918.6247274678876, pvalue=0.0)"
      ]
     },
     "execution_count": 139,
     "metadata": {},
     "output_type": "execute_result"
    }
   ],
   "source": [
    "stats.ttest_ind(df['gh_team_size'], df['tr_status'])"
   ]
  },
  {
   "cell_type": "code",
   "execution_count": 140,
   "metadata": {},
   "outputs": [
    {
     "data": {
      "text/plain": [
       "Ks_2sampResult(statistic=0.5118695438361318, pvalue=0.0)"
      ]
     },
     "execution_count": 140,
     "metadata": {},
     "output_type": "execute_result"
    }
   ],
   "source": [
    "stats.ks_2samp(df['gh_team_size'], df['tr_log_num_tests_failed'])"
   ]
  },
  {
   "cell_type": "code",
   "execution_count": 142,
   "metadata": {},
   "outputs": [
    {
     "data": {
      "text/plain": [
       "Ks_2sampResult(statistic=0.8697261630079312, pvalue=0.0)"
      ]
     },
     "execution_count": 142,
     "metadata": {},
     "output_type": "execute_result"
    }
   ],
   "source": [
    "stats.ks_2samp(df['gh_team_size'], df['tr_log_num_tests_ok'])"
   ]
  },
  {
   "cell_type": "code",
   "execution_count": 141,
   "metadata": {
    "scrolled": false
   },
   "outputs": [
    {
     "data": {
      "text/plain": [
       "Ks_2sampResult(statistic=0.906424903796893, pvalue=0.0)"
      ]
     },
     "execution_count": 141,
     "metadata": {},
     "output_type": "execute_result"
    }
   ],
   "source": [
    "stats.ks_2samp(df['gh_team_size'], df['tr_log_num_tests_run'])"
   ]
  },
  {
   "cell_type": "code",
   "execution_count": 8,
   "metadata": {},
   "outputs": [],
   "source": [
    "sample = df.sample(frac=0.7)"
   ]
  },
  {
   "cell_type": "code",
   "execution_count": 9,
   "metadata": {},
   "outputs": [],
   "source": [
    "src = sample.groupby('gh_team_size', as_index=False)['git_diff_src_churn'].mean()\n",
    "test = sample.groupby('gh_team_size', as_index=False)['git_diff_test_churn'].mean()\n",
    "t_sloc = sample.groupby('gh_team_size', as_index=False)['gh_test_lines_per_kloc'].mean()\n",
    "sloc = sample.groupby('gh_team_size', as_index=False)['gh_sloc'].mean()\n",
    "sloc_list = np.array(sloc['gh_sloc'].tolist(), dtype=np.float)\n",
    "t_sloc_list = np.array(t_sloc['gh_test_lines_per_kloc'].tolist(), dtype=np.float)\n",
    "test_list = np.array(test['git_diff_test_churn'].tolist(), dtype=np.float)\n",
    "src_list = np.array(src['git_diff_src_churn'].tolist(), dtype=np.float)"
   ]
  },
  {
   "cell_type": "code",
   "execution_count": 10,
   "metadata": {},
   "outputs": [
    {
     "data": {
      "text/plain": [
       "SpearmanrResult(correlation=-0.7226451792164492, pvalue=7.091676106167226e-11)"
      ]
     },
     "execution_count": 10,
     "metadata": {},
     "output_type": "execute_result"
    }
   ],
   "source": [
    "# this means there is a correlation between team size and changes of source code ratio\n",
    "# pearsonr(team_size, ss)\n",
    "stats.spearmanr(team_size, src_list / sloc_list)"
   ]
  },
  {
   "cell_type": "code",
   "execution_count": 11,
   "metadata": {},
   "outputs": [
    {
     "data": {
      "text/plain": [
       "MannwhitneyuResult(statistic=60.0, pvalue=3.424736600788257e-20)"
      ]
     },
     "execution_count": 11,
     "metadata": {},
     "output_type": "execute_result"
    }
   ],
   "source": [
    "stats.mannwhitneyu(team_size, src_list / sloc_list)"
   ]
  },
  {
   "cell_type": "code",
   "execution_count": 12,
   "metadata": {},
   "outputs": [
    {
     "data": {
      "text/plain": [
       "SpearmanrResult(correlation=0.6447346485134761, pvalue=2.704766543330544e-08)"
      ]
     },
     "execution_count": 12,
     "metadata": {},
     "output_type": "execute_result"
    }
   ],
   "source": [
    "# this means there is a correlation between team size and changes of test code ratio\n",
    "# pearsonr(team_size, ts)\n",
    "stats.spearmanr(team_size, test_list / t_sloc_list * sloc_list)"
   ]
  },
  {
   "cell_type": "code",
   "execution_count": 13,
   "metadata": {},
   "outputs": [
    {
     "data": {
      "text/plain": [
       "MannwhitneyuResult(statistic=0.0, pvalue=1.7782854874923613e-21)"
      ]
     },
     "execution_count": 13,
     "metadata": {},
     "output_type": "execute_result"
    }
   ],
   "source": [
    "stats.mannwhitneyu(team_size, test_list / t_sloc_list * sloc_list)"
   ]
  },
  {
   "cell_type": "code",
   "execution_count": 200,
   "metadata": {},
   "outputs": [
    {
     "data": {
      "text/plain": [
       "SpearmanrResult(correlation=-0.43517643789941657, pvalue=0.0005111201972021636)"
      ]
     },
     "execution_count": 200,
     "metadata": {},
     "output_type": "execute_result"
    }
   ],
   "source": [
    "# Travis status\n",
    "counts = sample.groupby(['gh_team_size']).size().reset_index(name='counts')\n",
    "failed = np.array(sample.groupby(['gh_team_size']).tr_status.value_counts().unstack(fill_value=0).loc[:, 0].tolist(), dtype=np.float)\n",
    "passed = np.array(sample.groupby(['gh_team_size']).tr_status.value_counts().unstack(fill_value=0).loc[:, 1].tolist(), dtype=np.float)\n",
    "\n",
    "total_status = np.array(list(counts['counts']), dtype=np.float)\n",
    "stats.spearmanr(team_size, passed / total_status)"
   ]
  },
  {
   "cell_type": "code",
   "execution_count": 192,
   "metadata": {},
   "outputs": [
    {
     "data": {
      "text/plain": [
       "SpearmanrResult(correlation=0.43517643789941657, pvalue=0.0005111201972021636)"
      ]
     },
     "execution_count": 192,
     "metadata": {},
     "output_type": "execute_result"
    }
   ],
   "source": [
    "stats.spearmanr(team_size, failed / total_status)"
   ]
  },
  {
   "cell_type": "code",
   "execution_count": 14,
   "metadata": {},
   "outputs": [
    {
     "data": {
      "text/plain": [
       "SpearmanrResult(correlation=-0.34654070575159773, pvalue=0.006679139501587907)"
      ]
     },
     "execution_count": 14,
     "metadata": {},
     "output_type": "execute_result"
    }
   ],
   "source": [
    "# tests\n",
    "failed_tests = sample.groupby('gh_team_size', as_index=False)['tr_log_num_tests_failed'].mean()\n",
    "ok_tests = sample.groupby('gh_team_size', as_index=False)['tr_log_num_tests_ok'].mean()\n",
    "total_tests = sample.groupby('gh_team_size', as_index=False)['tr_log_num_tests_run'].mean()\n",
    "\n",
    "failed_tests_list = np.array(failed_tests['tr_log_num_tests_failed'].tolist(), dtype=np.float)\n",
    "total_tests_list = np.array(total_tests['tr_log_num_tests_run'].tolist(), dtype=np.float)\n",
    "ok_tests_list = np.array(ok_tests['tr_log_num_tests_ok'].tolist(), dtype=np.float)\n",
    "stats.spearmanr(team_size, failed_tests_list / total_tests_list)"
   ]
  },
  {
   "cell_type": "code",
   "execution_count": 15,
   "metadata": {},
   "outputs": [
    {
     "data": {
      "text/plain": [
       "SpearmanrResult(correlation=0.002445123645457072, pvalue=0.9852069139288007)"
      ]
     },
     "execution_count": 15,
     "metadata": {},
     "output_type": "execute_result"
    }
   ],
   "source": [
    "stats.spearmanr(team_size, ok_tests_list / total_tests_list)"
   ]
  },
  {
   "cell_type": "code",
   "execution_count": 195,
   "metadata": {},
   "outputs": [
    {
     "data": {
      "text/plain": [
       "SpearmanrResult(correlation=-0.4230063906640734, pvalue=0.0007592467266302635)"
      ]
     },
     "execution_count": 195,
     "metadata": {},
     "output_type": "execute_result"
    }
   ],
   "source": [
    "# date\n",
    "date_diff = sample.groupby('gh_team_size', as_index=False)['date_diff'].mean()\n",
    "src_date = sample.groupby('gh_team_size', as_index=False)['src_date'].mean()\n",
    "test_date = sample.groupby('gh_team_size', as_index=False)['test_date'].mean()\n",
    "\n",
    "date_diff_list = np.array(date_diff['date_diff'].tolist(), dtype=np.float)\n",
    "src_date_list = np.array(src_date['src_date'].tolist(), dtype=np.float)\n",
    "test_date_list = np.array(test_date['test_date'].tolist(), dtype=np.float)\n",
    "\n",
    "stats.spearmanr(team_size, date_diff_list)"
   ]
  },
  {
   "cell_type": "code",
   "execution_count": 196,
   "metadata": {},
   "outputs": [
    {
     "data": {
      "text/plain": [
       "SpearmanrResult(correlation=-0.8230063906640736, pvalue=7.131715052026028e-16)"
      ]
     },
     "execution_count": 196,
     "metadata": {},
     "output_type": "execute_result"
    }
   ],
   "source": [
    "stats.spearmanr(team_size, test_date_list)"
   ]
  },
  {
   "cell_type": "code",
   "execution_count": 197,
   "metadata": {},
   "outputs": [
    {
     "data": {
      "text/plain": [
       "SpearmanrResult(correlation=-0.7205334815226453, pvalue=8.551127482448382e-11)"
      ]
     },
     "execution_count": 197,
     "metadata": {},
     "output_type": "execute_result"
    }
   ],
   "source": [
    "stats.spearmanr(team_size, src_date_list)"
   ]
  }
 ],
 "metadata": {
  "kernelspec": {
   "display_name": "Python 3",
   "language": "python",
   "name": "python3"
  },
  "language_info": {
   "codemirror_mode": {
    "name": "ipython",
    "version": 3
   },
   "file_extension": ".py",
   "mimetype": "text/x-python",
   "name": "python",
   "nbconvert_exporter": "python",
   "pygments_lexer": "ipython3",
   "version": "3.7.1"
  }
 },
 "nbformat": 4,
 "nbformat_minor": 2
}
