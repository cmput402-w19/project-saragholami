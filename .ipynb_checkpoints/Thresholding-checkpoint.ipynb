{
 "cells": [
  {
   "cell_type": "code",
   "execution_count": 93,
   "metadata": {},
   "outputs": [],
   "source": [
    "import pandas as pd\n",
    "import numpy as np\n",
    "import statistics\n",
    "import seaborn as sns"
   ]
  },
  {
   "cell_type": "code",
   "execution_count": 3,
   "metadata": {},
   "outputs": [
    {
     "name": "stderr",
     "output_type": "stream",
     "text": [
      "C:\\Users\\norouziy\\AppData\\Local\\Continuum\\anaconda3\\lib\\site-packages\\IPython\\core\\interactiveshell.py:3020: DtypeWarning: Columns (2) have mixed types. Specify dtype option on import or set low_memory=False.\n",
      "  interactivity=interactivity, compiler=compiler, result=result)\n"
     ]
    }
   ],
   "source": [
    "df = pd.read_csv('C://Users/norouziy/Desktop/SARA/501/Project/project-saragholami/sample/travis_torrent_refined.csv')"
   ]
  },
  {
   "cell_type": "code",
   "execution_count": 4,
   "metadata": {},
   "outputs": [],
   "source": [
    "df = df.sort_values('gh_team_size')"
   ]
  },
  {
   "cell_type": "code",
   "execution_count": 40,
   "metadata": {},
   "outputs": [
    {
     "data": {
      "text/plain": [
       "(3115284, 52)"
      ]
     },
     "execution_count": 40,
     "metadata": {},
     "output_type": "execute_result"
    }
   ],
   "source": [
    "df.shape"
   ]
  },
  {
   "cell_type": "code",
   "execution_count": 6,
   "metadata": {},
   "outputs": [
    {
     "name": "stdout",
     "output_type": "stream",
     "text": [
      "[ 0  1  2  3  4  5  6  7  8  9 10 11 12 13 14 15 16 17 18 19 20 21 22 23\n",
      " 24 25 26 27 28 29 30 31 32 33 34 35 36 37 38 39 40 41 42 43 44 45 46 47\n",
      " 48 49 50 51 52 53 54 55 56 57 58 59]\n"
     ]
    }
   ],
   "source": [
    "team_size = df.gh_team_size.unique()\n",
    "print(team_size)"
   ]
  },
  {
   "cell_type": "code",
   "execution_count": 83,
   "metadata": {},
   "outputs": [],
   "source": [
    "sample_set = 100"
   ]
  },
  {
   "cell_type": "code",
   "execution_count": 84,
   "metadata": {},
   "outputs": [],
   "source": [
    "src_sloc = np.zeros((sample_set, len(team_size)))\n",
    "test_sloc = np.zeros((sample_set, len(team_size)))\n",
    "status_failed = np.zeros((sample_set, len(team_size)))\n",
    "status_passed = np.zeros((sample_set, len(team_size)))\n",
    "test_failed = np.zeros((sample_set, len(team_size)))\n",
    "test_ok = np.zeros((sample_set, len(team_size)))\n",
    "date = np.zeros((sample_set, len(team_size)))\n",
    "src_date_res = np.zeros((sample_set, len(team_size)))\n",
    "test_date_res = np.zeros((sample_set, len(team_size)))"
   ]
  },
  {
   "cell_type": "code",
   "execution_count": 85,
   "metadata": {},
   "outputs": [
    {
     "name": "stdout",
     "output_type": "stream",
     "text": [
      "0\n",
      "(2180699, 52)\n",
      "1\n",
      "(2180699, 52)\n",
      "2\n",
      "(2180699, 52)\n",
      "3\n",
      "(2180699, 52)\n",
      "4\n",
      "(2180699, 52)\n",
      "5\n",
      "(2180699, 52)\n",
      "6\n",
      "(2180699, 52)\n",
      "7\n",
      "(2180699, 52)\n",
      "8\n",
      "(2180699, 52)\n",
      "9\n",
      "(2180699, 52)\n",
      "10\n",
      "(2180699, 52)\n",
      "11\n",
      "(2180699, 52)\n",
      "12\n",
      "(2180699, 52)\n",
      "13\n",
      "(2180699, 52)\n",
      "14\n",
      "(2180699, 52)\n",
      "15\n",
      "(2180699, 52)\n",
      "16\n",
      "(2180699, 52)\n",
      "17\n",
      "(2180699, 52)\n",
      "18\n",
      "(2180699, 52)\n",
      "19\n",
      "(2180699, 52)\n",
      "20\n",
      "(2180699, 52)\n",
      "21\n",
      "(2180699, 52)\n",
      "22\n",
      "(2180699, 52)\n",
      "23\n",
      "(2180699, 52)\n",
      "24\n",
      "(2180699, 52)\n",
      "25\n",
      "(2180699, 52)\n",
      "26\n",
      "(2180699, 52)\n",
      "27\n",
      "(2180699, 52)\n",
      "28\n",
      "(2180699, 52)\n",
      "29\n",
      "(2180699, 52)\n",
      "30\n",
      "(2180699, 52)\n",
      "31\n",
      "(2180699, 52)\n",
      "32\n",
      "(2180699, 52)\n",
      "33\n",
      "(2180699, 52)\n",
      "34\n",
      "(2180699, 52)\n",
      "35\n",
      "(2180699, 52)\n",
      "36\n",
      "(2180699, 52)\n",
      "37\n",
      "(2180699, 52)\n",
      "38\n",
      "(2180699, 52)\n",
      "39\n",
      "(2180699, 52)\n",
      "40\n",
      "(2180699, 52)\n",
      "41\n",
      "(2180699, 52)\n",
      "42\n",
      "(2180699, 52)\n",
      "43\n",
      "(2180699, 52)\n",
      "44\n",
      "(2180699, 52)\n",
      "45\n",
      "(2180699, 52)\n",
      "46\n",
      "(2180699, 52)\n",
      "47\n",
      "(2180699, 52)\n",
      "48\n",
      "(2180699, 52)\n",
      "49\n",
      "(2180699, 52)\n",
      "50\n",
      "(2180699, 52)\n",
      "51\n",
      "(2180699, 52)\n",
      "52\n",
      "(2180699, 52)\n",
      "53\n",
      "(2180699, 52)\n",
      "54\n",
      "(2180699, 52)\n",
      "55\n",
      "(2180699, 52)\n",
      "56\n",
      "(2180699, 52)\n",
      "57\n",
      "(2180699, 52)\n",
      "58\n",
      "(2180699, 52)\n",
      "59\n",
      "(2180699, 52)\n",
      "60\n",
      "(2180699, 52)\n",
      "61\n",
      "(2180699, 52)\n",
      "62\n",
      "(2180699, 52)\n",
      "63\n",
      "(2180699, 52)\n",
      "64\n",
      "(2180699, 52)\n",
      "65\n",
      "(2180699, 52)\n",
      "66\n",
      "(2180699, 52)\n",
      "67\n",
      "(2180699, 52)\n",
      "68\n",
      "(2180699, 52)\n",
      "69\n",
      "(2180699, 52)\n",
      "70\n",
      "(2180699, 52)\n",
      "71\n",
      "(2180699, 52)\n",
      "72\n",
      "(2180699, 52)\n",
      "73\n",
      "(2180699, 52)\n",
      "74\n",
      "(2180699, 52)\n",
      "75\n",
      "(2180699, 52)\n",
      "76\n",
      "(2180699, 52)\n",
      "77\n",
      "(2180699, 52)\n",
      "78\n",
      "(2180699, 52)\n",
      "79\n",
      "(2180699, 52)\n",
      "80\n",
      "(2180699, 52)\n",
      "81\n",
      "(2180699, 52)\n",
      "82\n",
      "(2180699, 52)\n",
      "83\n",
      "(2180699, 52)\n",
      "84\n",
      "(2180699, 52)\n",
      "85\n",
      "(2180699, 52)\n",
      "86\n",
      "(2180699, 52)\n",
      "87\n",
      "(2180699, 52)\n",
      "88\n",
      "(2180699, 52)\n",
      "89\n",
      "(2180699, 52)\n",
      "90\n",
      "(2180699, 52)\n",
      "91\n",
      "(2180699, 52)\n",
      "92\n",
      "(2180699, 52)\n",
      "93\n",
      "(2180699, 52)\n",
      "94\n",
      "(2180699, 52)\n",
      "95\n",
      "(2180699, 52)\n",
      "96\n",
      "(2180699, 52)\n",
      "97\n",
      "(2180699, 52)\n",
      "98\n",
      "(2180699, 52)\n",
      "99\n",
      "(2180699, 52)\n"
     ]
    }
   ],
   "source": [
    "for i in range(sample_set):\n",
    "    print(i)\n",
    "    sample = df.sample(frac=0.7, replace=True)\n",
    "    print(sample.shape)\n",
    "    sample = sample.sort_values('gh_team_size')\n",
    "    \n",
    "    for index, threshold in enumerate(team_size):\n",
    "        if index == 0 or index == len(team_size) - 1:\n",
    "            continue\n",
    "\n",
    "        src = sample.groupby('gh_team_size', as_index=False)['git_diff_src_churn'].mean()\n",
    "        test = sample.groupby('gh_team_size', as_index=False)['git_diff_test_churn'].mean()\n",
    "        sloc = sample.groupby('gh_team_size', as_index=False)['gh_sloc'].mean()\n",
    "        counts = sample.groupby(['gh_team_size']).size().reset_index(name='counts')\n",
    "        failed = sample.groupby(['gh_team_size']).tr_status.value_counts().unstack(fill_value=0).loc[:, 0].tolist()\n",
    "        passed = sample.groupby(['gh_team_size']).tr_status.value_counts().unstack(fill_value=0).loc[:, 1].tolist()\n",
    "        failed_tests = df.groupby('gh_team_size', as_index=False)['tr_log_num_tests_failed'].mean()\n",
    "        ok_tests = sample.groupby('gh_team_size', as_index=False)['tr_log_num_tests_ok'].mean()\n",
    "        total_tests = sample.groupby('gh_team_size', as_index=False)['tr_log_num_tests_run'].mean()\n",
    "        date_diff = sample.groupby('gh_team_size', as_index=False)['date_diff'].mean()\n",
    "        src_date = sample.groupby('gh_team_size', as_index=False)['src_date'].mean()\n",
    "        test_date = sample.groupby('gh_team_size', as_index=False)['test_date'].mean()\n",
    "        \n",
    "        sloc_list = sloc['gh_sloc'].tolist()\n",
    "        test_list = test['git_diff_test_churn'].tolist()\n",
    "        src_list = src['git_diff_src_churn'].tolist()\n",
    "        failed_tests_list = failed_tests['tr_log_num_tests_failed'].tolist()\n",
    "        total_tests_list = total_tests['tr_log_num_tests_run'].tolist()\n",
    "        ok_tests_list = ok_tests['tr_log_num_tests_ok'].tolist()\n",
    "        date_diff_list = date_diff['date_diff'].tolist()\n",
    "        src_date_list = src_date['src_date'].tolist()\n",
    "        test_date_list = test_date['test_date'].tolist()\n",
    "        total_status = list(counts['counts'])\n",
    "\n",
    "        lower_half_mean_src = np.mean(src_list[:index]) / np.mean(sloc_list[:index])\n",
    "        upper_half_mean_src = np.mean(src_list[index:]) / np.mean(sloc_list[index:])\n",
    "        \n",
    "        lower_half_mean_test = np.mean(test_list[:index]) / np.mean(sloc_list[:index])\n",
    "        upper_half_mean_test = np.mean(test_list[index:]) / np.mean(sloc_list[index:])\n",
    "        \n",
    "        lower_half_mean_failure = np.mean(failed[:index]) / np.mean(total_status[:index])\n",
    "        upper_half_mean_failure = np.mean(failed[index:]) / np.mean(total_status[index:])\n",
    "\n",
    "        lower_half_mean_passed = np.mean(passed[:index]) / np.mean(total_status[:index])\n",
    "        upper_half_mean_passed = np.mean(passed[index:]) / np.mean(total_status[index:])\n",
    "        \n",
    "        lower_half_failed_tests = np.mean(failed_tests_list[:index]) / np.mean(total_tests_list[:index])\n",
    "        upper_half_failed_tests = np.mean(failed_tests_list[index:]) / np.mean(total_tests_list[index:])\n",
    "        \n",
    "        lower_half_ok_tests = np.mean(ok_tests_list[:index]) / np.mean(total_tests_list[:index])\n",
    "        upper_half_ok_tests = np.mean(ok_tests_list[index:]) / np.mean(total_tests_list[index:])\n",
    "        \n",
    "        lower_half_date_diff = np.mean(date_diff_list[:index])\n",
    "        upper_half_date_diff = np.mean(date_diff_list[index:])\n",
    "        \n",
    "        lower_half_src_date = np.mean(src_date_list[:index])\n",
    "        upper_half_src_date = np.mean(src_date_list[index:])\n",
    "        \n",
    "        lower_half_test_date = np.mean(test_date_list[:index])\n",
    "        upper_half_test_date = np.mean(test_date_list[index:])\n",
    "\n",
    "        src_sloc[i][index] = lower_half_mean_src - upper_half_mean_src\n",
    "        test_sloc[i][index] = lower_half_mean_test - upper_half_mean_test\n",
    "        status_failed[i][index] = lower_half_mean_failure - upper_half_mean_failure\n",
    "        status_passed[i][index] = lower_half_mean_passed - upper_half_mean_passed\n",
    "        test_failed[i][index] = lower_half_failed_tests - upper_half_failed_tests\n",
    "        test_ok[i][index] = lower_half_ok_tests - upper_half_ok_tests\n",
    "        date[i][index] = lower_half_date_diff - upper_half_date_diff\n",
    "        src_date_res[i][index] = lower_half_src_date - upper_half_src_date\n",
    "        test_date_res[i][index] = lower_half_test_date - upper_half_test_date"
   ]
  },
  {
   "cell_type": "code",
   "execution_count": 98,
   "metadata": {},
   "outputs": [],
   "source": [
    "compare_src_sloc = src_sloc > 0\n",
    "compare_test_sloc = test_sloc > 0\n",
    "compare_status_failed = status_failed > 0\n",
    "compare_status_passed = status_passed > 0\n",
    "compare_test_failed = test_failed > 0\n",
    "compare_test_ok = test_ok > 0\n",
    "compare_date_dif = date > 0\n",
    "compare_src_date = src_date_res > 0\n",
    "compare_test_date = test_date_res > 0"
   ]
  },
  {
   "cell_type": "code",
   "execution_count": 47,
   "metadata": {},
   "outputs": [
    {
     "data": {
      "text/plain": [
       "10"
      ]
     },
     "execution_count": 47,
     "metadata": {},
     "output_type": "execute_result"
    }
   ],
   "source": [
    "np.sum(compare_test_ok[:, 10])"
   ]
  },
  {
   "cell_type": "code",
   "execution_count": 92,
   "metadata": {},
   "outputs": [
    {
     "name": "stdout",
     "output_type": "stream",
     "text": [
      "[[0.         0.00574236 0.01030227 ... 0.00079289 0.00121154 0.        ]\n",
      " [0.         0.00723852 0.00999676 ... 0.00076886 0.00100719 0.        ]\n",
      " [0.         0.00580269 0.01170383 ... 0.0007323  0.00117618 0.        ]\n",
      " ...\n",
      " [0.         0.00930652 0.01323125 ... 0.00095486 0.00129685 0.        ]\n",
      " [0.         0.00667217 0.01150513 ... 0.00081225 0.00133348 0.        ]\n",
      " [0.         0.00636744 0.00834345 ... 0.00097788 0.00131411 0.        ]]\n",
      "(100, 60)\n"
     ]
    }
   ],
   "source": [
    "print(src_sloc)\n",
    "print(src_sloc.shape)"
   ]
  },
  {
   "cell_type": "code",
   "execution_count": 61,
   "metadata": {},
   "outputs": [
    {
     "name": "stdout",
     "output_type": "stream",
     "text": [
      "(10, 60)\n"
     ]
    }
   ],
   "source": [
    "print(compare_test_ok.shape)"
   ]
  },
  {
   "cell_type": "code",
   "execution_count": 99,
   "metadata": {},
   "outputs": [],
   "source": [
    "sum_src_sloc = np.zeros(len(team_size))\n",
    "sum_test_sloc = np.zeros(len(team_size))\n",
    "sum_status_failed = np.zeros(len(team_size))\n",
    "sum_status_passed = np.zeros(len(team_size))\n",
    "sum_test_failed = np.zeros(len(team_size))\n",
    "sum_test_ok = np.zeros(len(team_size))\n",
    "sum_date_diff = np.zeros(len(team_size))\n",
    "sum_src_date = np.zeros(len(team_size))\n",
    "sum_test_date = np.zeros(len(team_size))\n",
    "for i in range(len(team_size)):\n",
    "    sum_src_sloc[i] = np.sum(compare_src_sloc[:, i])\n",
    "    sum_test_sloc[i] = np.sum(compare_test_sloc[:, i])\n",
    "    sum_status_failed[i] = np.sum(compare_status_failed[:, i])\n",
    "    sum_status_passed[i] = np.sum(compare_status_passed[:, i])\n",
    "    sum_test_failed[i] = np.sum(compare_test_failed[:, i])\n",
    "    sum_test_ok[i] = np.sum(compare_test_ok[:, i])\n",
    "    sum_date_diff[i] = np.sum(compare_date_dif[:, i])\n",
    "    sum_src_date[i] = np.sum(compare_src_date[:, i])\n",
    "    sum_test_date[i] = np.sum(compare_test_date[:, i])"
   ]
  },
  {
   "cell_type": "code",
   "execution_count": 63,
   "metadata": {},
   "outputs": [
    {
     "name": "stdout",
     "output_type": "stream",
     "text": [
      "[ 0. 10. 10. 10. 10. 10. 10. 10. 10. 10. 10. 10. 10. 10. 10. 10. 10. 10.\n",
      " 10. 10. 10. 10. 10. 10. 10. 10. 10. 10. 10. 10. 10. 10. 10. 10. 10. 10.\n",
      " 10. 10. 10. 10. 10. 10. 10. 10. 10. 10. 10. 10. 10. 10. 10. 10. 10. 10.\n",
      " 10. 10. 10. 10. 10.  0.]\n"
     ]
    }
   ],
   "source": [
    "print(sum_src_sloc)"
   ]
  },
  {
   "cell_type": "code",
   "execution_count": 64,
   "metadata": {},
   "outputs": [
    {
     "name": "stdout",
     "output_type": "stream",
     "text": [
      "[ 0. 10. 10. 10. 10. 10. 10. 10. 10. 10. 10. 10. 10. 10. 10. 10. 10. 10.\n",
      " 10. 10. 10. 10. 10. 10. 10. 10. 10. 10. 10. 10. 10. 10. 10. 10. 10. 10.\n",
      " 10. 10. 10. 10. 10. 10. 10. 10. 10. 10. 10. 10. 10. 10.  8.  6.  4.  5.\n",
      "  3.  5.  0.  0.  5.  0.]\n"
     ]
    }
   ],
   "source": [
    "print(sum_test_sloc)"
   ]
  },
  {
   "cell_type": "code",
   "execution_count": 65,
   "metadata": {},
   "outputs": [
    {
     "name": "stdout",
     "output_type": "stream",
     "text": [
      "[ 0. 10. 10.  0.  0.  0.  0.  0.  0.  0.  0.  0.  0.  0.  0.  0.  0.  0.\n",
      "  0.  0.  0.  0.  0.  0.  0.  0.  0.  0.  0.  0.  0.  0.  0.  0.  0.  0.\n",
      "  0.  0.  0.  0.  0.  0.  0.  0.  0.  0.  0.  0.  0.  0.  0.  0.  0.  0.\n",
      "  0.  0.  5.  7.  0.  0.]\n"
     ]
    }
   ],
   "source": [
    "print(sum_status_failed)"
   ]
  },
  {
   "cell_type": "code",
   "execution_count": 66,
   "metadata": {},
   "outputs": [
    {
     "name": "stdout",
     "output_type": "stream",
     "text": [
      "[ 0.  0.  0. 10. 10. 10. 10. 10. 10. 10. 10. 10. 10. 10. 10. 10. 10. 10.\n",
      " 10. 10. 10. 10. 10. 10. 10. 10. 10. 10. 10. 10. 10. 10. 10. 10. 10. 10.\n",
      " 10. 10. 10. 10. 10. 10. 10. 10. 10. 10. 10. 10. 10. 10. 10. 10. 10. 10.\n",
      " 10. 10.  5.  3. 10.  0.]\n"
     ]
    }
   ],
   "source": [
    "print(sum_status_passed)"
   ]
  },
  {
   "cell_type": "code",
   "execution_count": 67,
   "metadata": {},
   "outputs": [
    {
     "name": "stdout",
     "output_type": "stream",
     "text": [
      "[ 0.  0.  0.  0.  0.  0.  0.  0.  0.  0.  0.  0.  0.  6.  9. 10.  9.  8.\n",
      "  9.  9. 10. 10.  6.  6.  6. 10. 10. 10. 10. 10. 10. 10. 10. 10. 10. 10.\n",
      " 10. 10. 10. 10. 10. 10. 10. 10. 10. 10. 10. 10. 10. 10. 10. 10. 10. 10.\n",
      " 10. 10. 10. 10. 10.  0.]\n"
     ]
    }
   ],
   "source": [
    "print(sum_test_failed)"
   ]
  },
  {
   "cell_type": "code",
   "execution_count": 68,
   "metadata": {},
   "outputs": [
    {
     "name": "stdout",
     "output_type": "stream",
     "text": [
      "[ 0. 10. 10. 10. 10. 10. 10. 10. 10. 10. 10. 10. 10. 10. 10. 10. 10. 10.\n",
      " 10. 10. 10. 10. 10. 10. 10. 10. 10. 10. 10. 10. 10. 10. 10. 10. 10. 10.\n",
      " 10. 10. 10. 10. 10. 10.  8.  0.  0.  0.  0.  0.  0.  0.  0.  0.  0.  0.\n",
      "  0.  0.  0.  0.  0.  0.]\n"
     ]
    }
   ],
   "source": [
    "print(sum_test_ok)"
   ]
  },
  {
   "cell_type": "code",
   "execution_count": 100,
   "metadata": {},
   "outputs": [],
   "source": [
    "mean_threshold = np.zeros(len(team_size))\n",
    "for i in range(len(team_size)):\n",
    "    mean_threshold[i] = np.mean(np.array([sum_src_sloc[i], sum_test_sloc[i], sum_status_failed[i], sum_status_passed[i], sum_test_failed[i], sum_test_ok[i], sum_date_diff[i], sum_src_date[i], sum_test_date[i]]))"
   ]
  },
  {
   "cell_type": "code",
   "execution_count": 101,
   "metadata": {},
   "outputs": [
    {
     "name": "stdout",
     "output_type": "stream",
     "text": [
      "[ 0.         44.55555556 72.         70.11111111 77.77777778 77.77777778\n",
      " 77.77777778 77.77777778 77.77777778 77.77777778 77.77777778 77.77777778\n",
      " 77.77777778 87.         88.77777778 88.77777778 88.77777778 88.44444444\n",
      " 88.77777778 88.77777778 88.77777778 88.77777778 87.33333333 87.11111111\n",
      " 87.33333333 88.77777778 88.77777778 88.77777778 88.88888889 88.77777778\n",
      " 88.88888889 88.88888889 88.88888889 88.88888889 88.88888889 88.88888889\n",
      " 88.88888889 88.88888889 88.33333333 86.88888889 84.33333333 81.11111111\n",
      " 73.44444444 66.66666667 66.66666667 66.66666667 66.66666667 66.66666667\n",
      " 66.55555556 65.55555556 62.44444444 60.         58.44444444 57.77777778\n",
      " 57.         58.44444444 55.77777778 55.77777778 68.33333333  0.        ]\n"
     ]
    }
   ],
   "source": [
    "print(mean_threshold)"
   ]
  },
  {
   "cell_type": "code",
   "execution_count": 102,
   "metadata": {},
   "outputs": [
    {
     "data": {
      "text/plain": [
       "28"
      ]
     },
     "execution_count": 102,
     "metadata": {},
     "output_type": "execute_result"
    }
   ],
   "source": [
    "np.argmax(mean_threshold)"
   ]
  },
  {
   "cell_type": "code",
   "execution_count": 95,
   "metadata": {},
   "outputs": [
    {
     "data": {
      "text/plain": [
       "Text(0.5, 1.0, 'Source code changes ratio')"
      ]
     },
     "execution_count": 95,
     "metadata": {},
     "output_type": "execute_result"
    },
    {
     "data": {
      "image/png": "[encoded data removed]",
      "text/plain": [
       "<Figure size 432x288 with 1 Axes>"
      ]
     },
     "metadata": {
      "needs_background": "light"
     },
     "output_type": "display_data"
    }
   ],
   "source": [
    "sns.distplot(src_sloc[:, 28], hist=True, kde=True,\n",
    "                 bins=10, color='darkgreen',\n",
    "                 hist_kws={'edgecolor': 'black'},\n",
    "                 kde_kws={'linewidth': 4}).set_title('Source code changes ratio')"
   ]
  },
  {
   "cell_type": "code",
   "execution_count": 96,
   "metadata": {},
   "outputs": [
    {
     "data": {
      "text/plain": [
       "Text(0.5, 1.0, 'Test code changes ratio')"
      ]
     },
     "execution_count": 96,
     "metadata": {},
     "output_type": "execute_result"
    },
    {
     "data": {
      "image/png": "[encoded data removed]",
      "text/plain": [
       "<Figure size 432x288 with 1 Axes>"
      ]
     },
     "metadata": {
      "needs_background": "light"
     },
     "output_type": "display_data"
    }
   ],
   "source": [
    "sns.distplot(test_sloc[:, 28], hist=True, kde=True,\n",
    "                 bins=10, color='darkgreen',\n",
    "                 hist_kws={'edgecolor': 'black'},\n",
    "                 kde_kws={'linewidth': 4}).set_title('Test code changes ratio')"
   ]
  },
  {
   "cell_type": "code",
   "execution_count": 97,
   "metadata": {},
   "outputs": [
    {
     "data": {
      "text/plain": [
       "Text(0.5, 1.0, 'Travis status failure ratio')"
      ]
     },
     "execution_count": 97,
     "metadata": {},
     "output_type": "execute_result"
    },
    {
     "data": {
      "image/png": "[encoded data removed]",
      "text/plain": [
       "<Figure size 432x288 with 1 Axes>"
      ]
     },
     "metadata": {
      "needs_background": "light"
     },
     "output_type": "display_data"
    }
   ],
   "source": [
    "sns.distplot(status_failed[:, 28], hist=True, kde=True,\n",
    "                 bins=10, color='darkgreen',\n",
    "                 hist_kws={'edgecolor': 'black'},\n",
    "                 kde_kws={'linewidth': 4}).set_title('Travis status failure ratio')"
   ]
  },
  {
   "cell_type": "code",
   "execution_count": 103,
   "metadata": {},
   "outputs": [
    {
     "data": {
      "text/plain": [
       "Text(0.5, 1.0, 'Travis status passed ratio')"
      ]
     },
     "execution_count": 103,
     "metadata": {},
     "output_type": "execute_result"
    },
    {
     "data": {
      "image/png": "[encoded data removed]",
      "text/plain": [
       "<Figure size 432x288 with 1 Axes>"
      ]
     },
     "metadata": {
      "needs_background": "light"
     },
     "output_type": "display_data"
    }
   ],
   "source": [
    "sns.distplot(status_passed[:, 28], hist=True, kde=True,\n",
    "                 bins=10, color='darkgreen',\n",
    "                 hist_kws={'edgecolor': 'black'},\n",
    "                 kde_kws={'linewidth': 4}).set_title('Travis status passed ratio')"
   ]
  },
  {
   "cell_type": "code",
   "execution_count": 104,
   "metadata": {},
   "outputs": [
    {
     "data": {
      "text/plain": [
       "Text(0.5, 1.0, 'Tests failure ratio')"
      ]
     },
     "execution_count": 104,
     "metadata": {},
     "output_type": "execute_result"
    },
    {
     "data": {
      "image/png": "[encoded data removed]",
      "text/plain": [
       "<Figure size 432x288 with 1 Axes>"
      ]
     },
     "metadata": {
      "needs_background": "light"
     },
     "output_type": "display_data"
    }
   ],
   "source": [
    "sns.distplot(test_failed[:, 28], hist=True, kde=True,\n",
    "                 bins=10, color='darkgreen',\n",
    "                 hist_kws={'edgecolor': 'black'},\n",
    "                 kde_kws={'linewidth': 4}).set_title('Tests failure ratio')"
   ]
  },
  {
   "cell_type": "code",
   "execution_count": 105,
   "metadata": {},
   "outputs": [
    {
     "data": {
      "text/plain": [
       "Text(0.5, 1.0, 'Tests OK ratio')"
      ]
     },
     "execution_count": 105,
     "metadata": {},
     "output_type": "execute_result"
    },
    {
     "data": {
      "image/png": "[encoded data removed]",
      "text/plain": [
       "<Figure size 432x288 with 1 Axes>"
      ]
     },
     "metadata": {
      "needs_background": "light"
     },
     "output_type": "display_data"
    }
   ],
   "source": [
    "sns.distplot(test_ok[:, 28], hist=True, kde=True,\n",
    "                 bins=10, color='darkgreen',\n",
    "                 hist_kws={'edgecolor': 'black'},\n",
    "                 kde_kws={'linewidth': 4}).set_title('Tests OK ratio')"
   ]
  },
  {
   "cell_type": "code",
   "execution_count": 106,
   "metadata": {},
   "outputs": [
    {
     "data": {
      "text/plain": [
       "Text(0.5, 1.0, 'Time interval for each push')"
      ]
     },
     "execution_count": 106,
     "metadata": {},
     "output_type": "execute_result"
    },
    {
     "data": {
      "image/png": "[encoded data removed]",
      "text/plain": [
       "<Figure size 432x288 with 1 Axes>"
      ]
     },
     "metadata": {
      "needs_background": "light"
     },
     "output_type": "display_data"
    }
   ],
   "source": [
    "sns.distplot(date[:, 28], hist=True, kde=True,\n",
    "                 bins=10, color='darkgreen',\n",
    "                 hist_kws={'edgecolor': 'black'},\n",
    "                 kde_kws={'linewidth': 4}).set_title('Time interval for each push')"
   ]
  },
  {
   "cell_type": "code",
   "execution_count": 107,
   "metadata": {},
   "outputs": [
    {
     "data": {
      "text/plain": [
       "Text(0.5, 1.0, 'Source code changes over time ratio')"
      ]
     },
     "execution_count": 107,
     "metadata": {},
     "output_type": "execute_result"
    },
    {
     "data": {
      "image/png": "[encoded data removed]",
      "text/plain": [
       "<Figure size 432x288 with 1 Axes>"
      ]
     },
     "metadata": {
      "needs_background": "light"
     },
     "output_type": "display_data"
    }
   ],
   "source": [
    "sns.distplot(src_date_res[:, 28], hist=True, kde=True,\n",
    "                 bins=10, color='darkgreen',\n",
    "                 hist_kws={'edgecolor': 'black'},\n",
    "                 kde_kws={'linewidth': 4}).set_title('Source code changes over time ratio')"
   ]
  },
  {
   "cell_type": "code",
   "execution_count": 108,
   "metadata": {},
   "outputs": [
    {
     "data": {
      "text/plain": [
       "Text(0.5, 1.0, 'Test code changes over time ratio')"
      ]
     },
     "execution_count": 108,
     "metadata": {},
     "output_type": "execute_result"
    },
    {
     "data": {
      "image/png": "[encoded data removed]",
      "text/plain": [
       "<Figure size 432x288 with 1 Axes>"
      ]
     },
     "metadata": {
      "needs_background": "light"
     },
     "output_type": "display_data"
    }
   ],
   "source": [
    "sns.distplot(test_date_res[:, 28], hist=True, kde=True,\n",
    "                 bins=10, color='darkgreen',\n",
    "                 hist_kws={'edgecolor': 'black'},\n",
    "                 kde_kws={'linewidth': 4}).set_title('Test code changes over time ratio')"
   ]
  },
  {
   "cell_type": "code",
   "execution_count": 73,
   "metadata": {},
   "outputs": [
    {
     "data": {
      "text/plain": [
       "Unnamed: 0                           int64\n",
       "gh_project_name                     object\n",
       "gh_pr_created_at                    object\n",
       "gh_lang                             object\n",
       "gh_num_commits_in_push             float64\n",
       "gh_first_commit_created_at          object\n",
       "gh_team_size                         int64\n",
       "git_num_all_built_commits            int64\n",
       "gh_num_issue_comments              float64\n",
       "gh_num_commit_comments               int64\n",
       "gh_num_pr_comments                 float64\n",
       "git_diff_src_churn                   int64\n",
       "git_diff_test_churn                  int64\n",
       "gh_diff_files_added                  int64\n",
       "gh_diff_files_deleted                int64\n",
       "gh_diff_files_modified               int64\n",
       "gh_diff_tests_added                  int64\n",
       "gh_diff_tests_deleted                int64\n",
       "gh_diff_src_files                    int64\n",
       "gh_diff_doc_files                    int64\n",
       "gh_diff_other_files                  int64\n",
       "gh_num_commits_on_files_touched      int64\n",
       "gh_sloc                              int64\n",
       "gh_test_lines_per_kloc             float64\n",
       "gh_test_cases_per_kloc             float64\n",
       "gh_asserts_cases_per_kloc          float64\n",
       "gh_by_core_team_member               int64\n",
       "gh_description_complexity          float64\n",
       "gh_pushed_at                        object\n",
       "gh_build_started_at                 object\n",
       "tr_status                            int64\n",
       "tr_duration                        float64\n",
       "tr_log_lan                          object\n",
       "tr_log_status                       object\n",
       "tr_log_setup_time                  float64\n",
       "tr_log_analyzer                     object\n",
       "tr_log_frameworks                   object\n",
       "tr_log_bool_tests_ran                 bool\n",
       "tr_log_bool_tests_failed            object\n",
       "tr_log_num_tests_ok                float64\n",
       "tr_log_num_tests_failed            float64\n",
       "tr_log_num_tests_run               float64\n",
       "tr_log_num_tests_skipped           float64\n",
       "tr_log_tests_failed                 object\n",
       "tr_log_testduration                float64\n",
       "tr_log_buildduration               float64\n",
       "build_successful                      bool\n",
       "date_diff                          float64\n",
       "src_diff_ratio                     float64\n",
       "src_date                           float64\n",
       "test_diff_ratio                    float64\n",
       "test_date                          float64\n",
       "dtype: object"
      ]
     },
     "execution_count": 73,
     "metadata": {},
     "output_type": "execute_result"
    }
   ],
   "source": [
    "df.dtypes"
   ]
  },
  {
   "cell_type": "code",
   "execution_count": 18,
   "metadata": {},
   "outputs": [],
   "source": [
    "bool_src_sloc = compare_src_sloc.all(axis=0)\n",
    "bool_test_sloc = compare_test_sloc.all(axis=0)\n",
    "bool_status_failed = compare_status_failed.all(axis=0)\n",
    "bool_status_passed = compare_status_passed.all(axis=0)"
   ]
  },
  {
   "cell_type": "code",
   "execution_count": 25,
   "metadata": {},
   "outputs": [
    {
     "name": "stdout",
     "output_type": "stream",
     "text": [
      "[False  True  True  True  True  True  True  True  True  True  True  True\n",
      "  True  True  True  True  True  True  True  True  True  True  True  True\n",
      "  True  True  True  True  True  True  True  True  True  True  True  True\n",
      "  True  True  True  True  True  True  True  True  True  True  True  True\n",
      "  True  True  True  True  True  True  True  True  True  True  True False]\n"
     ]
    }
   ],
   "source": [
    "print(bool_src_sloc)"
   ]
  },
  {
   "cell_type": "code",
   "execution_count": 22,
   "metadata": {},
   "outputs": [],
   "source": [
    "res1 = np.equal(bool_status_passed, bool_status_failed)\n",
    "res2 = np.equal(bool_src_sloc, bool_test_sloc)\n",
    "res3 = np.equal(res1, res2)"
   ]
  }
 ],
 "metadata": {
  "kernelspec": {
   "display_name": "Python 3",
   "language": "python",
   "name": "python3"
  },
  "language_info": {
   "codemirror_mode": {
    "name": "ipython",
    "version": 3
   },
   "file_extension": ".py",
   "mimetype": "text/x-python",
   "name": "python",
   "nbconvert_exporter": "python",
   "pygments_lexer": "ipython3",
   "version": "3.7.1"
  }
 },
 "nbformat": 4,
 "nbformat_minor": 2
}
