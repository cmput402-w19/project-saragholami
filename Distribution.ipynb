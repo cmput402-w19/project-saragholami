{
 "cells": [
  {
   "cell_type": "markdown",
   "metadata": {},
   "source": [
    "# Checking the distribution of variables and the correlation between each of the variables and team size"
   ]
  },
  {
   "cell_type": "code",
   "execution_count": 14,
   "metadata": {},
   "outputs": [],
   "source": [
    "import pandas as pd\n",
    "import numpy as np\n",
    "import matplotlib.pyplot as plt\n",
    "from scipy import stats\n",
    "import os"
   ]
  },
  {
   "cell_type": "code",
   "execution_count": null,
   "metadata": {},
   "outputs": [],
   "source": [
    "# load the dataset\n",
    "df = pd.read_csv('./refined.csv')"
   ]
  },
  {
   "cell_type": "code",
   "execution_count": 20,
   "metadata": {},
   "outputs": [
    {
     "data": {
      "text/plain": [
       "1034"
      ]
     },
     "execution_count": 20,
     "metadata": {},
     "output_type": "execute_result"
    }
   ],
   "source": [
    "df['gh_project_name'].nunique()"
   ]
  },
  {
   "cell_type": "code",
   "execution_count": 2,
   "metadata": {},
   "outputs": [],
   "source": [
    "team_size = df.gh_team_size.unique()"
   ]
  },
  {
   "cell_type": "code",
   "execution_count": 3,
   "metadata": {},
   "outputs": [],
   "source": [
    "# code changes\n",
    "test_diff_ratio = np.array(df.groupby('gh_team_size', as_index=False)['test_diff_ratio'].mean()['test_diff_ratio'].tolist(), dtype=np.float)\n",
    "src_diff_ratio = np.array(df.groupby('gh_team_size', as_index=False)['src_diff_ratio'].mean()['src_diff_ratio'].tolist(), dtype=np.float)\n",
    "\n",
    "# tests\n",
    "test_failed_ratio = np.array(df.groupby('gh_team_size', as_index=False)['test_failed_ratio'].mean()['test_failed_ratio'].tolist(), dtype=np.float)\n",
    "test_ok_ratio = np.array(df.groupby('gh_team_size', as_index=False)['test_ok_ratio'].mean()['test_ok_ratio'].tolist(), dtype=np.float)\n",
    "\n",
    "# date\n",
    "date_diff = np.array(df.groupby('gh_team_size', as_index=False)['date_diff'].mean()['date_diff'].tolist(), dtype=np.float)\n",
    "src_date = np.array(df.groupby('gh_team_size', as_index=False)['src_date'].mean()['src_date'].tolist(), dtype=np.float)\n",
    "test_date = np.array(df.groupby('gh_team_size', as_index=False)['test_date'].mean()['test_date'].tolist(), dtype=np.float)\n",
    "\n",
    "# Travis status\n",
    "counts = df.groupby(['gh_team_size']).size().reset_index(name='counts')\n",
    "failed = np.array(df.groupby(['gh_team_size']).tr_status.value_counts().unstack(fill_value=0).loc[:, 0].tolist(), dtype=np.float)\n",
    "passed = np.array(df.groupby(['gh_team_size']).tr_status.value_counts().unstack(fill_value=0).loc[:, 1].tolist(), dtype=np.float)\n",
    "total_status = np.array(list(counts['counts']), dtype=np.float)"
   ]
  },
  {
   "cell_type": "code",
   "execution_count": 18,
   "metadata": {},
   "outputs": [],
   "source": [
    "if not os.path.exists('figs'):\n",
    "    os.makedirs('figs')"
   ]
  },
  {
   "cell_type": "markdown",
   "metadata": {},
   "source": [
    "### Distribution of variables"
   ]
  },
  {
   "cell_type": "code",
   "execution_count": 19,
   "metadata": {},
   "outputs": [
    {
     "data": {
      "image/png": "[encoded data removed]",
      "text/plain": [
       "<Figure size 432x288 with 4 Axes>"
      ]
     },
     "metadata": {
      "needs_background": "light"
     },
     "output_type": "display_data"
    }
   ],
   "source": [
    "fig, ax = plt.subplots(2, 2)\n",
    "ax[0, 0].boxplot(src_diff_ratio)\n",
    "ax[0, 1].boxplot(test_diff_ratio)\n",
    "ax[1, 0].boxplot(src_date)\n",
    "ax[1, 1].boxplot(test_date)\n",
    "\n",
    "ax[0, 0].set_xlabel('SCC ratio')\n",
    "ax[0, 1].set_xlabel('TCC ratio')\n",
    "ax[1, 0].set_xlabel('SCC ratio over time')\n",
    "ax[1, 1].set_xlabel('TCC ratio over time')\n",
    "\n",
    "plt.tight_layout(w_pad=0.5, h_pad=1.0)\n",
    "plt.savefig('./figs/code_dist.eps', format='eps')"
   ]
  },
  {
   "cell_type": "code",
   "execution_count": 17,
   "metadata": {
    "scrolled": true
   },
   "outputs": [
    {
     "data": {
      "image/png": "[encoded data removed]",
      "text/plain": [
       "<Figure size 432x288 with 4 Axes>"
      ]
     },
     "metadata": {
      "needs_background": "light"
     },
     "output_type": "display_data"
    }
   ],
   "source": [
    "fig, ax = plt.subplots(2, 2)\n",
    "ax[0, 0].boxplot(test_ok_ratio)\n",
    "ax[0, 1].boxplot(test_failed_ratio)\n",
    "ax[1, 0].boxplot(passed/total_status)\n",
    "ax[1, 1].boxplot(failed/total_status)\n",
    "\n",
    "ax[0, 0].set_xlabel('OK tests ratio')\n",
    "ax[0, 1].set_xlabel('Failed tests ratio')\n",
    "ax[1, 0].set_xlabel('Passed status ratio')\n",
    "ax[1, 1].set_xlabel('Passed status ratio')\n",
    "plt.tight_layout(w_pad=0.5, h_pad=1.0)\n",
    "plt.savefig('./figs/rest_dist.eps', format='eps')"
   ]
  },
  {
   "cell_type": "markdown",
   "metadata": {},
   "source": [
    "### Correlation between team size and other variables"
   ]
  },
  {
   "cell_type": "code",
   "execution_count": 4,
   "metadata": {},
   "outputs": [
    {
     "data": {
      "text/plain": [
       "SpearmanrResult(correlation=-0.9069185884968048, pvalue=1.931503088724296e-23)"
      ]
     },
     "execution_count": 4,
     "metadata": {},
     "output_type": "execute_result"
    }
   ],
   "source": [
    "stats.spearmanr(team_size, src_diff_ratio)\n",
    "# correlation"
   ]
  },
  {
   "cell_type": "code",
   "execution_count": 5,
   "metadata": {},
   "outputs": [
    {
     "data": {
      "text/plain": [
       "SpearmanrResult(correlation=-0.891858849680467, pvalue=1.2070545478241052e-21)"
      ]
     },
     "execution_count": 5,
     "metadata": {},
     "output_type": "execute_result"
    }
   ],
   "source": [
    "stats.spearmanr(team_size, test_diff_ratio)\n",
    "# correlation"
   ]
  },
  {
   "cell_type": "code",
   "execution_count": 6,
   "metadata": {},
   "outputs": [
    {
     "data": {
      "text/plain": [
       "SpearmanrResult(correlation=0.09947207557654905, pvalue=0.4495429036597496)"
      ]
     },
     "execution_count": 6,
     "metadata": {},
     "output_type": "execute_result"
    }
   ],
   "source": [
    "stats.spearmanr(team_size, test_ok_ratio)\n",
    "# no correlation"
   ]
  },
  {
   "cell_type": "code",
   "execution_count": 7,
   "metadata": {},
   "outputs": [
    {
     "data": {
      "text/plain": [
       "SpearmanrResult(correlation=-0.09947207557654905, pvalue=0.4495429036597496)"
      ]
     },
     "execution_count": 7,
     "metadata": {},
     "output_type": "execute_result"
    }
   ],
   "source": [
    "stats.spearmanr(team_size, test_failed_ratio)\n",
    "# no correlation"
   ]
  },
  {
   "cell_type": "code",
   "execution_count": 9,
   "metadata": {},
   "outputs": [
    {
     "data": {
      "text/plain": [
       "SpearmanrResult(correlation=-0.7769380383439847, pvalue=2.9388017605642834e-13)"
      ]
     },
     "execution_count": 9,
     "metadata": {},
     "output_type": "execute_result"
    }
   ],
   "source": [
    "stats.spearmanr(team_size, src_date)\n",
    "# fair correlation"
   ]
  },
  {
   "cell_type": "code",
   "execution_count": 10,
   "metadata": {},
   "outputs": [
    {
     "data": {
      "text/plain": [
       "SpearmanrResult(correlation=-0.8042233953876078, pvalue=1.0059803050721419e-14)"
      ]
     },
     "execution_count": 10,
     "metadata": {},
     "output_type": "execute_result"
    }
   ],
   "source": [
    "stats.spearmanr(team_size, test_date)\n",
    "# correlation"
   ]
  },
  {
   "cell_type": "code",
   "execution_count": 11,
   "metadata": {},
   "outputs": [
    {
     "data": {
      "text/plain": [
       "SpearmanrResult(correlation=0.574103917754932, pvalue=1.6197959566216812e-06)"
      ]
     },
     "execution_count": 11,
     "metadata": {},
     "output_type": "execute_result"
    }
   ],
   "source": [
    "stats.spearmanr(team_size, failed/total_status)\n",
    "# no correlation"
   ]
  },
  {
   "cell_type": "code",
   "execution_count": 12,
   "metadata": {},
   "outputs": [
    {
     "data": {
      "text/plain": [
       "SpearmanrResult(correlation=-0.574103917754932, pvalue=1.6197959566216812e-06)"
      ]
     },
     "execution_count": 12,
     "metadata": {},
     "output_type": "execute_result"
    }
   ],
   "source": [
    "stats.spearmanr(team_size, passed/total_status)\n",
    "# no correlation"
   ]
  }
 ],
 "metadata": {
  "kernelspec": {
   "display_name": "Python 3",
   "language": "python",
   "name": "python3"
  },
  "language_info": {
   "codemirror_mode": {
    "name": "ipython",
    "version": 3
   },
   "file_extension": ".py",
   "mimetype": "text/x-python",
   "name": "python",
   "nbconvert_exporter": "python",
   "pygments_lexer": "ipython3",
   "version": "3.7.1"
  }
 },
 "nbformat": 4,
 "nbformat_minor": 2
}
