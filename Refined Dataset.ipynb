{
 "cells": [
  {
   "cell_type": "code",
   "execution_count": 148,
   "metadata": {},
   "outputs": [],
   "source": [
    "import pandas as pd\n",
    "import numpy as np\n",
    "from scipy import stats\n",
    "import matplotlib.pyplot as plt"
   ]
  },
  {
   "cell_type": "code",
   "execution_count": 211,
   "metadata": {},
   "outputs": [
    {
     "name": "stderr",
     "output_type": "stream",
     "text": [
      "C:\\Users\\norouziy\\AppData\\Local\\Continuum\\anaconda3\\lib\\site-packages\\IPython\\core\\interactiveshell.py:3020: DtypeWarning: Columns (3,6,18) have mixed types. Specify dtype option on import or set low_memory=False.\n",
      "  interactivity=interactivity, compiler=compiler, result=result)\n"
     ]
    }
   ],
   "source": [
    "df = pd.read_csv('./csv/travistorrent_8_2_2017.csv')"
   ]
  },
  {
   "cell_type": "code",
   "execution_count": 212,
   "metadata": {},
   "outputs": [],
   "source": [
    "df = df[['gh_pushed_at', 'gh_first_commit_created_at', 'tr_status', 'git_diff_src_churn', 'git_diff_test_churn', 'gh_sloc', 'gh_lang', 'gh_team_size', 'tr_build_id', 'tr_log_num_tests_run', 'tr_log_num_tests_ok', 'tr_log_num_tests_failed', 'gh_test_lines_per_kloc', 'gh_project_name']]"
   ]
  },
  {
   "cell_type": "code",
   "execution_count": 213,
   "metadata": {},
   "outputs": [
    {
     "data": {
      "text/plain": [
       "gh_pushed_at                   object\n",
       "gh_first_commit_created_at     object\n",
       "tr_status                      object\n",
       "git_diff_src_churn              int64\n",
       "git_diff_test_churn             int64\n",
       "gh_sloc                         int64\n",
       "gh_lang                        object\n",
       "gh_team_size                    int64\n",
       "tr_build_id                     int64\n",
       "tr_log_num_tests_run          float64\n",
       "tr_log_num_tests_ok           float64\n",
       "tr_log_num_tests_failed       float64\n",
       "gh_test_lines_per_kloc        float64\n",
       "gh_project_name                object\n",
       "dtype: object"
      ]
     },
     "execution_count": 213,
     "metadata": {},
     "output_type": "execute_result"
    }
   ],
   "source": [
    "df.dtypes"
   ]
  },
  {
   "cell_type": "code",
   "execution_count": 215,
   "metadata": {},
   "outputs": [],
   "source": [
    "df = df.loc[df['gh_team_size'] < 60]"
   ]
  },
  {
   "cell_type": "code",
   "execution_count": 216,
   "metadata": {},
   "outputs": [],
   "source": [
    "# Convert gh_pushed_at and gh_first_commit_created_at to delta time\n",
    "df['gh_pushed_at'] = pd.to_datetime(df['gh_pushed_at'])\n",
    "df['gh_first_commit_created_at'] = pd.to_datetime(df['gh_first_commit_created_at'])"
   ]
  },
  {
   "cell_type": "code",
   "execution_count": 217,
   "metadata": {},
   "outputs": [],
   "source": [
    "# Get date diff from them\n",
    "df['date_diff'] = df['gh_pushed_at'].sub(df['gh_first_commit_created_at'], axis=0)\n",
    "df[\"date_diff\"] = df[\"date_diff\"] / np.timedelta64(1, 'm')"
   ]
  },
  {
   "cell_type": "code",
   "execution_count": 218,
   "metadata": {},
   "outputs": [],
   "source": [
    "# Dropping rows where travis status is canceled or started and mapping the rest to 0 and 1\n",
    "df = df[df.tr_status != 'canceled']\n",
    "df = df[df.tr_status != 'started']\n",
    "df['tr_status'] = df['tr_status'].map({'passed': 1, 'failed': 0, 'errored': 0})"
   ]
  },
  {
   "cell_type": "code",
   "execution_count": 219,
   "metadata": {},
   "outputs": [],
   "source": [
    "# Source and test code ratio and their ratio over time\n",
    "df[\"src_diff_ratio\"] = df[\"git_diff_src_churn\"] / df[\"gh_sloc\"]\n",
    "df[\"src_date\"] = df[\"src_diff_ratio\"] / df[\"date_diff\"]\n",
    "df[\"test_diff_ratio\"] = df[\"git_diff_test_churn\"] / df[\"gh_test_lines_per_kloc\"] * df[\"gh_sloc\"]\n",
    "df[\"test_date\"] = df[\"test_diff_ratio\"] / df[\"date_diff\"]"
   ]
  },
  {
   "cell_type": "code",
   "execution_count": 220,
   "metadata": {},
   "outputs": [],
   "source": [
    "df.replace('', np.nan, inplace=True)\n",
    "df.replace([np.inf, -np.inf], np.nan, inplace=True)"
   ]
  },
  {
   "cell_type": "code",
   "execution_count": 221,
   "metadata": {},
   "outputs": [],
   "source": [
    "df = df[pd.notnull(df['tr_log_num_tests_run'])]"
   ]
  },
  {
   "cell_type": "code",
   "execution_count": 222,
   "metadata": {},
   "outputs": [],
   "source": [
    "df = df[pd.notnull(df['tr_log_num_tests_ok'])]"
   ]
  },
  {
   "cell_type": "code",
   "execution_count": 223,
   "metadata": {},
   "outputs": [],
   "source": [
    "df = df[pd.notnull(df['tr_log_num_tests_failed'])]"
   ]
  },
  {
   "cell_type": "code",
   "execution_count": 224,
   "metadata": {},
   "outputs": [
    {
     "data": {
      "text/plain": [
       "(1550252, 19)"
      ]
     },
     "execution_count": 224,
     "metadata": {},
     "output_type": "execute_result"
    }
   ],
   "source": [
    "df.shape"
   ]
  },
  {
   "cell_type": "code",
   "execution_count": 225,
   "metadata": {},
   "outputs": [
    {
     "data": {
      "text/plain": [
       "gh_team_size\n",
       "0      16\n",
       "1     153\n",
       "2     358\n",
       "3     396\n",
       "4     386\n",
       "5     374\n",
       "6     330\n",
       "7     289\n",
       "8     242\n",
       "9     214\n",
       "10    177\n",
       "11    165\n",
       "12    141\n",
       "13    122\n",
       "14     99\n",
       "15     86\n",
       "16     73\n",
       "17     68\n",
       "18     63\n",
       "19     56\n",
       "20     45\n",
       "21     49\n",
       "22     42\n",
       "23     40\n",
       "24     35\n",
       "25     37\n",
       "26     38\n",
       "27     31\n",
       "28     28\n",
       "29     28\n",
       "30     28\n",
       "31     22\n",
       "32     24\n",
       "33     21\n",
       "34     26\n",
       "35     23\n",
       "36     22\n",
       "37     19\n",
       "38     20\n",
       "39     20\n",
       "40     14\n",
       "41     17\n",
       "42     16\n",
       "43     15\n",
       "44     14\n",
       "45     13\n",
       "46     13\n",
       "47     11\n",
       "48     11\n",
       "49      9\n",
       "50      9\n",
       "51      7\n",
       "52      8\n",
       "53      7\n",
       "54      6\n",
       "55      6\n",
       "56      4\n",
       "57      5\n",
       "58      4\n",
       "59      4\n",
       "Name: gh_project_name, dtype: int64"
      ]
     },
     "execution_count": 225,
     "metadata": {},
     "output_type": "execute_result"
    }
   ],
   "source": [
    "df.groupby('gh_team_size').gh_project_name.nunique()"
   ]
  },
  {
   "cell_type": "code",
   "execution_count": 226,
   "metadata": {},
   "outputs": [],
   "source": [
    "df = df.sort_values('gh_team_size')\n",
    "team_size = df.gh_team_size.unique()"
   ]
  },
  {
   "cell_type": "code",
   "execution_count": 227,
   "metadata": {},
   "outputs": [],
   "source": [
    "df.to_csv('./csv/refined.csv')"
   ]
  },
  {
   "cell_type": "code",
   "execution_count": 228,
   "metadata": {},
   "outputs": [],
   "source": [
    "src = np.array(df.groupby('gh_team_size', as_index=False)['git_diff_src_churn'].mean()['git_diff_src_churn'].tolist(), dtype=np.float)\n",
    "test = np.array(df.groupby('gh_team_size', as_index=False)['git_diff_test_churn'].mean()['git_diff_test_churn'].tolist(), dtype=np.float)\n",
    "t_sloc = np.array(df.groupby('gh_team_size', as_index=False)['gh_test_lines_per_kloc'].mean()['gh_test_lines_per_kloc'].tolist(), dtype=np.float)\n",
    "sloc = np.array(df.groupby('gh_team_size', as_index=False)['gh_sloc'].mean()['gh_sloc'].tolist(), dtype=np.float)"
   ]
  },
  {
   "cell_type": "code",
   "execution_count": 229,
   "metadata": {},
   "outputs": [
    {
     "data": {
      "text/plain": [
       "SpearmanrResult(correlation=0.133148096693526, pvalue=0.3104923297831414)"
      ]
     },
     "execution_count": 229,
     "metadata": {},
     "output_type": "execute_result"
    }
   ],
   "source": [
    "stats.spearmanr(team_size, src)\n",
    "# no correlation"
   ]
  },
  {
   "cell_type": "code",
   "execution_count": 230,
   "metadata": {},
   "outputs": [
    {
     "data": {
      "text/plain": [
       "SpearmanrResult(correlation=0.2397888302306197, pvalue=0.06498699549522383)"
      ]
     },
     "execution_count": 230,
     "metadata": {},
     "output_type": "execute_result"
    }
   ],
   "source": [
    "stats.spearmanr(team_size, test)\n",
    "# no correlation"
   ]
  },
  {
   "cell_type": "code",
   "execution_count": 231,
   "metadata": {},
   "outputs": [
    {
     "data": {
      "text/plain": [
       "SpearmanrResult(correlation=0.8252292303417618, pvalue=5.107997705410572e-16)"
      ]
     },
     "execution_count": 231,
     "metadata": {},
     "output_type": "execute_result"
    }
   ],
   "source": [
    "stats.spearmanr(team_size, sloc)\n",
    "# correlation"
   ]
  },
  {
   "cell_type": "code",
   "execution_count": 232,
   "metadata": {},
   "outputs": [
    {
     "data": {
      "text/plain": [
       "SpearmanrResult(correlation=0.7658238399555433, pvalue=1.0173499382451032e-12)"
      ]
     },
     "execution_count": 232,
     "metadata": {},
     "output_type": "execute_result"
    }
   ],
   "source": [
    "stats.spearmanr(team_size, t_sloc * sloc)\n",
    "# correlation"
   ]
  },
  {
   "cell_type": "code",
   "execution_count": 233,
   "metadata": {},
   "outputs": [
    {
     "data": {
      "text/plain": [
       "SpearmanrResult(correlation=0.7881633787163103, pvalue=7.785134932365775e-14)"
      ]
     },
     "execution_count": 233,
     "metadata": {},
     "output_type": "execute_result"
    }
   ],
   "source": [
    "stats.spearmanr(team_size, test/t_sloc * sloc)\n",
    "# correlation"
   ]
  },
  {
   "cell_type": "code",
   "execution_count": 234,
   "metadata": {},
   "outputs": [
    {
     "data": {
      "text/plain": [
       "SpearmanrResult(correlation=-0.908585718255071, pvalue=1.170892904045847e-23)"
      ]
     },
     "execution_count": 234,
     "metadata": {},
     "output_type": "execute_result"
    }
   ],
   "source": [
    "stats.spearmanr(team_size, src/sloc)\n",
    "# correlation"
   ]
  },
  {
   "cell_type": "code",
   "execution_count": 235,
   "metadata": {},
   "outputs": [],
   "source": [
    "# tests\n",
    "failed_tests = np.array(df.groupby('gh_team_size', as_index=False)['tr_log_num_tests_failed'].mean()['tr_log_num_tests_failed'].tolist(), dtype=np.float)\n",
    "ok_tests = np.array(df.groupby('gh_team_size', as_index=False)['tr_log_num_tests_ok'].mean()['tr_log_num_tests_ok'].tolist(), dtype=np.float)\n",
    "run_tests = np.array(df.groupby('gh_team_size', as_index=False)['tr_log_num_tests_run'].mean()['tr_log_num_tests_run'].tolist(), dtype=np.float)"
   ]
  },
  {
   "cell_type": "code",
   "execution_count": 236,
   "metadata": {},
   "outputs": [
    {
     "data": {
      "text/plain": [
       "SpearmanrResult(correlation=-0.21155876632397896, pvalue=0.10465778667705211)"
      ]
     },
     "execution_count": 236,
     "metadata": {},
     "output_type": "execute_result"
    }
   ],
   "source": [
    "stats.spearmanr(team_size, failed_tests)\n",
    "# No correlation"
   ]
  },
  {
   "cell_type": "code",
   "execution_count": 237,
   "metadata": {},
   "outputs": [
    {
     "data": {
      "text/plain": [
       "SpearmanrResult(correlation=0.4829119199777717, pvalue=9.309902719188377e-05)"
      ]
     },
     "execution_count": 237,
     "metadata": {},
     "output_type": "execute_result"
    }
   ],
   "source": [
    "stats.spearmanr(team_size, ok_tests)\n",
    "# no correlation"
   ]
  },
  {
   "cell_type": "code",
   "execution_count": 238,
   "metadata": {},
   "outputs": [
    {
     "data": {
      "text/plain": [
       "SpearmanrResult(correlation=0.4829119199777717, pvalue=9.309902719188377e-05)"
      ]
     },
     "execution_count": 238,
     "metadata": {},
     "output_type": "execute_result"
    }
   ],
   "source": [
    "stats.spearmanr(team_size, run_tests)\n",
    "# no correlation"
   ]
  },
  {
   "cell_type": "code",
   "execution_count": 239,
   "metadata": {},
   "outputs": [
    {
     "data": {
      "text/plain": [
       "SpearmanrResult(correlation=-0.38694081689358156, pvalue=0.002257321682964328)"
      ]
     },
     "execution_count": 239,
     "metadata": {},
     "output_type": "execute_result"
    }
   ],
   "source": [
    "stats.spearmanr(team_size, failed_tests/run_tests)\n",
    "# no correlation"
   ]
  },
  {
   "cell_type": "code",
   "execution_count": 240,
   "metadata": {},
   "outputs": [
    {
     "data": {
      "text/plain": [
       "SpearmanrResult(correlation=0.38694081689358156, pvalue=0.002257321682964328)"
      ]
     },
     "execution_count": 240,
     "metadata": {},
     "output_type": "execute_result"
    }
   ],
   "source": [
    "stats.spearmanr(team_size, ok_tests/run_tests)\n",
    "# no correlation"
   ]
  },
  {
   "cell_type": "code",
   "execution_count": 241,
   "metadata": {},
   "outputs": [],
   "source": [
    "# date\n",
    "date_diff = np.array(df.groupby('gh_team_size', as_index=False)['date_diff'].mean()['date_diff'].tolist(), dtype=np.float)\n",
    "src_date = np.array(df.groupby('gh_team_size', as_index=False)['src_date'].mean()['src_date'].tolist(), dtype=np.float)\n",
    "test_date = np.array(df.groupby('gh_team_size', as_index=False)['test_date'].mean()['test_date'].tolist(), dtype=np.float)"
   ]
  },
  {
   "cell_type": "code",
   "execution_count": 242,
   "metadata": {},
   "outputs": [
    {
     "data": {
      "text/plain": [
       "SpearmanrResult(correlation=-0.33681578216171165, pvalue=0.008502020262837966)"
      ]
     },
     "execution_count": 242,
     "metadata": {},
     "output_type": "execute_result"
    }
   ],
   "source": [
    "stats.spearmanr(team_size, date_diff)\n",
    "# no correlation"
   ]
  },
  {
   "cell_type": "code",
   "execution_count": 245,
   "metadata": {},
   "outputs": [
    {
     "data": {
      "text/plain": [
       "SpearmanrResult(correlation=-0.7769380383439847, pvalue=2.9388017605642834e-13)"
      ]
     },
     "execution_count": 245,
     "metadata": {},
     "output_type": "execute_result"
    }
   ],
   "source": [
    "stats.spearmanr(team_size, src_date)\n",
    "# no correlation"
   ]
  },
  {
   "cell_type": "code",
   "execution_count": 244,
   "metadata": {},
   "outputs": [
    {
     "data": {
      "text/plain": [
       "SpearmanrResult(correlation=-0.21894970825229232, pvalue=0.09280916981005517)"
      ]
     },
     "execution_count": 244,
     "metadata": {},
     "output_type": "execute_result"
    }
   ],
   "source": [
    "stats.spearmanr(team_size, test_date)\n",
    "# no correlation"
   ]
  },
  {
   "cell_type": "code",
   "execution_count": 246,
   "metadata": {},
   "outputs": [],
   "source": [
    "# Travis status\n",
    "counts = df.groupby(['gh_team_size']).size().reset_index(name='counts')\n",
    "failed = np.array(df.groupby(['gh_team_size']).tr_status.value_counts().unstack(fill_value=0).loc[:, 0].tolist(), dtype=np.float)\n",
    "passed = np.array(df.groupby(['gh_team_size']).tr_status.value_counts().unstack(fill_value=0).loc[:, 1].tolist(), dtype=np.float)\n",
    "total_status = np.array(list(counts['counts']), dtype=np.float)"
   ]
  },
  {
   "cell_type": "code",
   "execution_count": 247,
   "metadata": {},
   "outputs": [
    {
     "data": {
      "text/plain": [
       "SpearmanrResult(correlation=0.574103917754932, pvalue=1.6197959566216812e-06)"
      ]
     },
     "execution_count": 247,
     "metadata": {},
     "output_type": "execute_result"
    }
   ],
   "source": [
    "stats.spearmanr(team_size, failed/total_status)\n",
    "# no correlation"
   ]
  },
  {
   "cell_type": "code",
   "execution_count": 248,
   "metadata": {},
   "outputs": [
    {
     "data": {
      "text/plain": [
       "SpearmanrResult(correlation=-0.574103917754932, pvalue=1.6197959566216812e-06)"
      ]
     },
     "execution_count": 248,
     "metadata": {},
     "output_type": "execute_result"
    }
   ],
   "source": [
    "stats.spearmanr(team_size, passed/total_status)\n",
    "# no correlation"
   ]
  },
  {
   "cell_type": "code",
   "execution_count": 249,
   "metadata": {},
   "outputs": [
    {
     "data": {
      "text/plain": [
       "MannwhitneyuResult(statistic=163.0, pvalue=4.3713312734194635e-18)"
      ]
     },
     "execution_count": 249,
     "metadata": {},
     "output_type": "execute_result"
    }
   ],
   "source": [
    "stats.mannwhitneyu(team_size, src)"
   ]
  },
  {
   "cell_type": "code",
   "execution_count": 250,
   "metadata": {},
   "outputs": [
    {
     "data": {
      "text/plain": [
       "MannwhitneyuResult(statistic=60.0, pvalue=3.424736600788257e-20)"
      ]
     },
     "execution_count": 250,
     "metadata": {},
     "output_type": "execute_result"
    }
   ],
   "source": [
    "stats.mannwhitneyu(team_size, failed/total_status)"
   ]
  },
  {
   "cell_type": "code",
   "execution_count": 251,
   "metadata": {},
   "outputs": [
    {
     "data": {
      "text/plain": [
       "WilcoxonResult(statistic=1.0, pvalue=1.7141493981716166e-11)"
      ]
     },
     "execution_count": 251,
     "metadata": {},
     "output_type": "execute_result"
    }
   ],
   "source": [
    "stats.wilcoxon(team_size, failed/total_status)"
   ]
  },
  {
   "cell_type": "code",
   "execution_count": 252,
   "metadata": {},
   "outputs": [
    {
     "data": {
      "text/plain": [
       "RanksumsResult(statistic=9.132631530817717, pvalue=6.685408805976295e-20)"
      ]
     },
     "execution_count": 252,
     "metadata": {},
     "output_type": "execute_result"
    }
   ],
   "source": [
    "stats.ranksums(team_size, failed/total_status)"
   ]
  },
  {
   "cell_type": "code",
   "execution_count": 253,
   "metadata": {},
   "outputs": [
    {
     "data": {
      "text/plain": [
       "{'whiskers': [<matplotlib.lines.Line2D at 0x1e30b0c5c88>,\n",
       "  <matplotlib.lines.Line2D at 0x1e34844c208>,\n",
       "  <matplotlib.lines.Line2D at 0x1e3484487f0>,\n",
       "  <matplotlib.lines.Line2D at 0x1e348448a90>],\n",
       " 'caps': [<matplotlib.lines.Line2D at 0x1e34844c0b8>,\n",
       "  <matplotlib.lines.Line2D at 0x1e34844c438>,\n",
       "  <matplotlib.lines.Line2D at 0x1e348448cf8>,\n",
       "  <matplotlib.lines.Line2D at 0x1e348448f98>],\n",
       " 'boxes': [<matplotlib.lines.Line2D at 0x1e30b0c5b00>,\n",
       "  <matplotlib.lines.Line2D at 0x1e3484484e0>],\n",
       " 'medians': [<matplotlib.lines.Line2D at 0x1e34844c278>,\n",
       "  <matplotlib.lines.Line2D at 0x1e348451ef0>],\n",
       " 'fliers': [<matplotlib.lines.Line2D at 0x1e34844cac8>,\n",
       "  <matplotlib.lines.Line2D at 0x1e348451cf8>],\n",
       " 'means': []}"
      ]
     },
     "execution_count": 253,
     "metadata": {},
     "output_type": "execute_result"
    },
    {
     "data": {
      "image/png": "[encoded data removed]",
      "text/plain": [
       "<Figure size 432x288 with 1 Axes>"
      ]
     },
     "metadata": {
      "needs_background": "light"
     },
     "output_type": "display_data"
    }
   ],
   "source": [
    "data_to_plot = [test/t_sloc, src/sloc]\n",
    "plt.boxplot(data_to_plot)"
   ]
  },
  {
   "cell_type": "code",
   "execution_count": 254,
   "metadata": {},
   "outputs": [
    {
     "data": {
      "text/plain": [
       "{'whiskers': [<matplotlib.lines.Line2D at 0x1e32df6b390>,\n",
       "  <matplotlib.lines.Line2D at 0x1e32df6b710>],\n",
       " 'caps': [<matplotlib.lines.Line2D at 0x1e32df6b0b8>,\n",
       "  <matplotlib.lines.Line2D at 0x1e32df6b198>],\n",
       " 'boxes': [<matplotlib.lines.Line2D at 0x1e32df6b4a8>],\n",
       " 'medians': [<matplotlib.lines.Line2D at 0x1e33cf57550>],\n",
       " 'fliers': [<matplotlib.lines.Line2D at 0x1e33cf575f8>],\n",
       " 'means': []}"
      ]
     },
     "execution_count": 254,
     "metadata": {},
     "output_type": "execute_result"
    },
    {
     "data": {
      "image/png": "[encoded data removed]",
      "text/plain": [
       "<Figure size 432x288 with 1 Axes>"
      ]
     },
     "metadata": {
      "needs_background": "light"
     },
     "output_type": "display_data"
    }
   ],
   "source": [
    "plt.boxplot(src/sloc)"
   ]
  },
  {
   "cell_type": "code",
   "execution_count": 255,
   "metadata": {},
   "outputs": [
    {
     "data": {
      "text/plain": [
       "{'whiskers': [<matplotlib.lines.Line2D at 0x1e39dac3630>,\n",
       "  <matplotlib.lines.Line2D at 0x1e39dac32e8>],\n",
       " 'caps': [<matplotlib.lines.Line2D at 0x1e39daac668>,\n",
       "  <matplotlib.lines.Line2D at 0x1e39daac358>],\n",
       " 'boxes': [<matplotlib.lines.Line2D at 0x1e39dac3240>],\n",
       " 'medians': [<matplotlib.lines.Line2D at 0x1e39daac780>],\n",
       " 'fliers': [<matplotlib.lines.Line2D at 0x1e39daaceb8>],\n",
       " 'means': []}"
      ]
     },
     "execution_count": 255,
     "metadata": {},
     "output_type": "execute_result"
    },
    {
     "data": {
      "image/png": "[encoded data removed]",
      "text/plain": [
       "<Figure size 432x288 with 1 Axes>"
      ]
     },
     "metadata": {
      "needs_background": "light"
     },
     "output_type": "display_data"
    }
   ],
   "source": [
    "plt.boxplot(test/t_sloc)"
   ]
  },
  {
   "cell_type": "code",
   "execution_count": 256,
   "metadata": {},
   "outputs": [
    {
     "data": {
      "text/plain": [
       "{'whiskers': [<matplotlib.lines.Line2D at 0x1e31405c3c8>,\n",
       "  <matplotlib.lines.Line2D at 0x1e31405cb38>,\n",
       "  <matplotlib.lines.Line2D at 0x1e32ccbf400>,\n",
       "  <matplotlib.lines.Line2D at 0x1e32ccbfdd8>],\n",
       " 'caps': [<matplotlib.lines.Line2D at 0x1e32cc8b048>,\n",
       "  <matplotlib.lines.Line2D at 0x1e32cc8b0f0>,\n",
       "  <matplotlib.lines.Line2D at 0x1e32ccbf6a0>,\n",
       "  <matplotlib.lines.Line2D at 0x1e32ccbf5c0>],\n",
       " 'boxes': [<matplotlib.lines.Line2D at 0x1e31405cef0>,\n",
       "  <matplotlib.lines.Line2D at 0x1e323df1828>],\n",
       " 'medians': [<matplotlib.lines.Line2D at 0x1e32cc8bd30>,\n",
       "  <matplotlib.lines.Line2D at 0x1e32ccbf630>],\n",
       " 'fliers': [<matplotlib.lines.Line2D at 0x1e32cc8bba8>,\n",
       "  <matplotlib.lines.Line2D at 0x1e323dfbd30>],\n",
       " 'means': []}"
      ]
     },
     "execution_count": 256,
     "metadata": {},
     "output_type": "execute_result"
    },
    {
     "data": {
      "image/png": "[encoded data removed]",
      "text/plain": [
       "<Figure size 432x288 with 1 Axes>"
      ]
     },
     "metadata": {
      "needs_background": "light"
     },
     "output_type": "display_data"
    }
   ],
   "source": [
    "data_to_plot = [failed/total_status, passed/total_status]\n",
    "plt.boxplot(data_to_plot)"
   ]
  },
  {
   "cell_type": "code",
   "execution_count": 257,
   "metadata": {},
   "outputs": [
    {
     "data": {
      "text/plain": [
       "{'whiskers': [<matplotlib.lines.Line2D at 0x1e336cbc198>,\n",
       "  <matplotlib.lines.Line2D at 0x1e336cbcdd8>],\n",
       " 'caps': [<matplotlib.lines.Line2D at 0x1e336cbcb38>,\n",
       "  <matplotlib.lines.Line2D at 0x1e3255faba8>],\n",
       " 'boxes': [<matplotlib.lines.Line2D at 0x1e336cbc588>],\n",
       " 'medians': [<matplotlib.lines.Line2D at 0x1e3255fae10>],\n",
       " 'fliers': [<matplotlib.lines.Line2D at 0x1e3255fa0f0>],\n",
       " 'means': []}"
      ]
     },
     "execution_count": 257,
     "metadata": {},
     "output_type": "execute_result"
    },
    {
     "data": {
      "image/png": "[encoded data removed]",
      "text/plain": [
       "<Figure size 432x288 with 1 Axes>"
      ]
     },
     "metadata": {
      "needs_background": "light"
     },
     "output_type": "display_data"
    }
   ],
   "source": [
    "plt.boxplot(failed/total_status)"
   ]
  },
  {
   "cell_type": "code",
   "execution_count": 258,
   "metadata": {},
   "outputs": [
    {
     "data": {
      "text/plain": [
       "{'whiskers': [<matplotlib.lines.Line2D at 0x1e33e1f3dd8>,\n",
       "  <matplotlib.lines.Line2D at 0x1e33e1f1c50>],\n",
       " 'caps': [<matplotlib.lines.Line2D at 0x1e33e1f1a20>,\n",
       "  <matplotlib.lines.Line2D at 0x1e33e1f1898>],\n",
       " 'boxes': [<matplotlib.lines.Line2D at 0x1e33e1f3160>],\n",
       " 'medians': [<matplotlib.lines.Line2D at 0x1e33e1f1048>],\n",
       " 'fliers': [<matplotlib.lines.Line2D at 0x1e3255ed0b8>],\n",
       " 'means': []}"
      ]
     },
     "execution_count": 258,
     "metadata": {},
     "output_type": "execute_result"
    },
    {
     "data": {
      "image/png": "[encoded data removed]",
      "text/plain": [
       "<Figure size 432x288 with 1 Axes>"
      ]
     },
     "metadata": {
      "needs_background": "light"
     },
     "output_type": "display_data"
    }
   ],
   "source": [
    "plt.boxplot(passed/total_status)"
   ]
  },
  {
   "cell_type": "code",
   "execution_count": 265,
   "metadata": {},
   "outputs": [
    {
     "data": {
      "text/plain": [
       "{'whiskers': [<matplotlib.lines.Line2D at 0x1e326986160>,\n",
       "  <matplotlib.lines.Line2D at 0x1e326986048>,\n",
       "  <matplotlib.lines.Line2D at 0x1e374fe8978>,\n",
       "  <matplotlib.lines.Line2D at 0x1e374fe8208>],\n",
       " 'caps': [<matplotlib.lines.Line2D at 0x1e357b91a20>,\n",
       "  <matplotlib.lines.Line2D at 0x1e357b91748>,\n",
       "  <matplotlib.lines.Line2D at 0x1e374fe8278>,\n",
       "  <matplotlib.lines.Line2D at 0x1e374fe80f0>],\n",
       " 'boxes': [<matplotlib.lines.Line2D at 0x1e3269865f8>,\n",
       "  <matplotlib.lines.Line2D at 0x1e374fe8e48>],\n",
       " 'medians': [<matplotlib.lines.Line2D at 0x1e357b91390>,\n",
       "  <matplotlib.lines.Line2D at 0x1e3bb749ef0>],\n",
       " 'fliers': [<matplotlib.lines.Line2D at 0x1e357b912b0>,\n",
       "  <matplotlib.lines.Line2D at 0x1e3bb749c18>],\n",
       " 'means': []}"
      ]
     },
     "execution_count": 265,
     "metadata": {},
     "output_type": "execute_result"
    },
    {
     "data": {
      "image/png": "[encoded data removed]",
      "text/plain": [
       "<Figure size 432x288 with 1 Axes>"
      ]
     },
     "metadata": {
      "needs_background": "light"
     },
     "output_type": "display_data"
    }
   ],
   "source": [
    "data_to_plot = [src_date, test_date]\n",
    "plt.boxplot(data_to_plot)\n",
    "# not useful"
   ]
  },
  {
   "cell_type": "code",
   "execution_count": 264,
   "metadata": {},
   "outputs": [
    {
     "data": {
      "text/plain": [
       "{'whiskers': [<matplotlib.lines.Line2D at 0x1e328ebe518>,\n",
       "  <matplotlib.lines.Line2D at 0x1e328ebec88>],\n",
       " 'caps': [<matplotlib.lines.Line2D at 0x1e328ebe1d0>,\n",
       "  <matplotlib.lines.Line2D at 0x1e38e439860>],\n",
       " 'boxes': [<matplotlib.lines.Line2D at 0x1e328ebe400>],\n",
       " 'medians': [<matplotlib.lines.Line2D at 0x1e38e439ba8>],\n",
       " 'fliers': [<matplotlib.lines.Line2D at 0x1e38e439e48>],\n",
       " 'means': []}"
      ]
     },
     "execution_count": 264,
     "metadata": {},
     "output_type": "execute_result"
    },
    {
     "data": {
      "image/png": "[encoded data removed]",
      "text/plain": [
       "<Figure size 432x288 with 1 Axes>"
      ]
     },
     "metadata": {
      "needs_background": "light"
     },
     "output_type": "display_data"
    }
   ],
   "source": [
    "plt.boxplot(src_date)"
   ]
  },
  {
   "cell_type": "code",
   "execution_count": 263,
   "metadata": {},
   "outputs": [
    {
     "data": {
      "text/plain": [
       "{'whiskers': [<matplotlib.lines.Line2D at 0x1e312aea438>,\n",
       "  <matplotlib.lines.Line2D at 0x1e3394935f8>],\n",
       " 'caps': [<matplotlib.lines.Line2D at 0x1e339493550>,\n",
       "  <matplotlib.lines.Line2D at 0x1e348990b70>],\n",
       " 'boxes': [<matplotlib.lines.Line2D at 0x1e312aea4e0>],\n",
       " 'medians': [<matplotlib.lines.Line2D at 0x1e33e375c18>],\n",
       " 'fliers': [<matplotlib.lines.Line2D at 0x1e32b70bf60>],\n",
       " 'means': []}"
      ]
     },
     "execution_count": 263,
     "metadata": {},
     "output_type": "execute_result"
    },
    {
     "data": {
      "image/png": "[encoded data removed]",
      "text/plain": [
       "<Figure size 432x288 with 1 Axes>"
      ]
     },
     "metadata": {
      "needs_background": "light"
     },
     "output_type": "display_data"
    }
   ],
   "source": [
    "plt.boxplot(test_date)"
   ]
  },
  {
   "cell_type": "code",
   "execution_count": 266,
   "metadata": {},
   "outputs": [
    {
     "data": {
      "text/plain": [
       "{'whiskers': [<matplotlib.lines.Line2D at 0x1e32cc6b358>,\n",
       "  <matplotlib.lines.Line2D at 0x1e32cc6bcf8>],\n",
       " 'caps': [<matplotlib.lines.Line2D at 0x1e32cc6bf28>,\n",
       "  <matplotlib.lines.Line2D at 0x1e32cc6b780>],\n",
       " 'boxes': [<matplotlib.lines.Line2D at 0x1e32cc6bc18>],\n",
       " 'medians': [<matplotlib.lines.Line2D at 0x1e348452748>],\n",
       " 'fliers': [<matplotlib.lines.Line2D at 0x1e3484529e8>],\n",
       " 'means': []}"
      ]
     },
     "execution_count": 266,
     "metadata": {},
     "output_type": "execute_result"
    },
    {
     "data": {
      "image/png": "[encoded data removed]",
      "text/plain": [
       "<Figure size 432x288 with 1 Axes>"
      ]
     },
     "metadata": {
      "needs_background": "light"
     },
     "output_type": "display_data"
    }
   ],
   "source": [
    "plt.boxplot(failed_tests/run_tests)"
   ]
  },
  {
   "cell_type": "code",
   "execution_count": 267,
   "metadata": {},
   "outputs": [
    {
     "data": {
      "text/plain": [
       "{'whiskers': [<matplotlib.lines.Line2D at 0x1e3873f5518>,\n",
       "  <matplotlib.lines.Line2D at 0x1e3873f5b00>],\n",
       " 'caps': [<matplotlib.lines.Line2D at 0x1e3873f5cf8>,\n",
       "  <matplotlib.lines.Line2D at 0x1e3873f5320>],\n",
       " 'boxes': [<matplotlib.lines.Line2D at 0x1e3886bd550>],\n",
       " 'medians': [<matplotlib.lines.Line2D at 0x1e3873f5240>],\n",
       " 'fliers': [<matplotlib.lines.Line2D at 0x1e387202b70>],\n",
       " 'means': []}"
      ]
     },
     "execution_count": 267,
     "metadata": {},
     "output_type": "execute_result"
    },
    {
     "data": {
      "image/png": "[encoded data removed]",
      "text/plain": [
       "<Figure size 432x288 with 1 Axes>"
      ]
     },
     "metadata": {
      "needs_background": "light"
     },
     "output_type": "display_data"
    }
   ],
   "source": [
    "plt.boxplot(ok_tests/run_tests)"
   ]
  },
  {
   "cell_type": "code",
   "execution_count": 270,
   "metadata": {},
   "outputs": [
    {
     "data": {
      "image/png": "[encoded data removed]",
      "text/plain": [
       "<Figure size 432x288 with 4 Axes>"
      ]
     },
     "metadata": {
      "needs_background": "light"
     },
     "output_type": "display_data"
    }
   ],
   "source": [
    "fig, ax = plt.subplots(2, 2)\n",
    "ax[0, 0].boxplot(src/sloc)\n",
    "ax[0, 1].boxplot(test/t_sloc)\n",
    "ax[1, 0].boxplot(src_date)\n",
    "ax[1, 1].boxplot(test_date)\n",
    "\n",
    "ax[0, 0].set_xlabel('SCC ratio')\n",
    "ax[0, 1].set_xlabel('TCC ratio')\n",
    "ax[1, 0].set_xlabel('SCC ratio over time')\n",
    "ax[1, 1].set_xlabel('TCC ratio over time')\n",
    "\n",
    "plt.tight_layout(w_pad=0.5, h_pad=1.0)\n",
    "plt.savefig('./fig4/code_dist.png', dpi=1000)\n",
    "plt.show()"
   ]
  },
  {
   "cell_type": "code",
   "execution_count": 271,
   "metadata": {},
   "outputs": [
    {
     "data": {
      "image/png": "[encoded data removed]",
      "text/plain": [
       "<Figure size 432x288 with 4 Axes>"
      ]
     },
     "metadata": {
      "needs_background": "light"
     },
     "output_type": "display_data"
    }
   ],
   "source": [
    "fig, ax = plt.subplots(2, 2)\n",
    "ax[0, 0].boxplot(ok_tests/run_tests)\n",
    "ax[0, 1].boxplot(failed_tests/run_tests)\n",
    "ax[1, 0].boxplot(passed/total_status)\n",
    "ax[1, 1].boxplot(failed/total_status)\n",
    "\n",
    "ax[0, 0].set_xlabel('OK tests ratio')\n",
    "ax[0, 1].set_xlabel('Failed tests ratio')\n",
    "ax[1, 0].set_xlabel('Passed status ratio')\n",
    "ax[1, 1].set_xlabel('Passed status ratio')\n",
    "plt.tight_layout(w_pad=0.5, h_pad=1.0)\n",
    "plt.savefig('./fig4/rest_dist.png', dpi=1000)\n",
    "plt.show()"
   ]
  }
 ],
 "metadata": {
  "kernelspec": {
   "display_name": "Python 3",
   "language": "python",
   "name": "python3"
  },
  "language_info": {
   "codemirror_mode": {
    "name": "ipython",
    "version": 3
   },
   "file_extension": ".py",
   "mimetype": "text/x-python",
   "name": "python",
   "nbconvert_exporter": "python",
   "pygments_lexer": "ipython3",
   "version": "3.7.1"
  }
 },
 "nbformat": 4,
 "nbformat_minor": 2
}
