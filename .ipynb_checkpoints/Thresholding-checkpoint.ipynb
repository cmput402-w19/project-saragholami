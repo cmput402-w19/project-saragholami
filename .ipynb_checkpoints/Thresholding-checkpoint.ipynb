{
 "cells": [
  {
   "cell_type": "code",
   "execution_count": null,
   "metadata": {},
   "outputs": [],
   "source": [
    "import pandas as pd\n",
    "import numpy as np"
   ]
  },
  {
   "cell_type": "code",
   "execution_count": null,
   "metadata": {},
   "outputs": [],
   "source": [
    "df = pd.read_csv('D://CMPUT501/project/project-saragholami/sample/travis_torrent_refined.csv')"
   ]
  },
  {
   "cell_type": "code",
   "execution_count": null,
   "metadata": {},
   "outputs": [],
   "source": [
    "df = df.sort_values('gh_team_size')\n",
    "team_size = df.gh_team_size.unique()"
   ]
  },
  {
   "cell_type": "code",
   "execution_count": null,
   "metadata": {},
   "outputs": [],
   "source": [
    "diff = np.zeros(len(team_size))"
   ]
  },
  {
   "cell_type": "code",
   "execution_count": null,
   "metadata": {},
   "outputs": [],
   "source": [
    "for index, threshold in enumerate(team_size):\n",
    "    if index == 0 or index == len(team_size) - 1:\n",
    "        continue\n",
    "\n",
    "    src = df.groupby('gh_team_size', as_index=False)['git_diff_src_churn'].mean()\n",
    "    sloc = df.groupby('gh_team_size', as_index=False)['gh_sloc'].mean()\n",
    "\n",
    "    sloc_list = sloc['gh_sloc'].tolist()\n",
    "    src_list = src['git_diff_src_churn'].tolist()\n",
    "\n",
    "    lower_half_mean_src = np.mean(src_list[:index]) / np.mean(sloc_list[:index])\n",
    "    upper_half_mean_src = np.mean(src_list[index:]) / np.mean(sloc_list[index:])\n",
    "\n",
    "    diff[index] = lower_half_mean_src - upper_half_mean_src"
   ]
  }
 ],
 "metadata": {
  "kernelspec": {
   "display_name": "Python 3",
   "language": "python",
   "name": "python3"
  },
  "language_info": {
   "codemirror_mode": {
    "name": "ipython",
    "version": 3
   },
   "file_extension": ".py",
   "mimetype": "text/x-python",
   "name": "python",
   "nbconvert_exporter": "python",
   "pygments_lexer": "ipython3",
   "version": "3.7.1"
  }
 },
 "nbformat": 4,
 "nbformat_minor": 2
}
